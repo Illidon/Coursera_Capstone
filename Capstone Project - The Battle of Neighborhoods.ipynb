{
 "cells": [
  {
   "cell_type": "markdown",
   "metadata": {},
   "source": [
    "# Capstone Project - The Battle of Neighborhoods (Week 2)\n",
    "\n",
    "## 1.Introduction\n",
    "Phoenix is the capital and most populous city in Arizona. As of 2019, the city has a population of 1680992. It is also the fifth-most populous city in the United States, the largest state capital by population, and the only state capital with a population of more than one million residents.\n",
    "Phoenix is the anchor of the Phoenix metropolitan area, also known as the Valley of the Sun, which in turn is part of the Salt River Valley. The metropolitan area is the 11th largest by population in the United States, with approximately 4.73 million people as of 2017. Phoenix is the seat of Maricopa County and the largest city in the state at 517.9 square miles. \n",
    "Phoenix ranks as one of the fastest-growing cities in the United States. Because of that, it is also a city with cultural diversity. Therefore, for this project, I want to find out where is the best location in Phoenix to open a Chinese restaurant. And where is the best place to stay if one prefers to eat Chinese cuisine?\n",
    "\n",
    "## 2.Data\n",
    "To answer the questions in part(1), we need data of Chinese restaurants in Phoenix. The name, location, and custom reviews of the restaurants. And use those information to determine the “best” location for open a new Chinese restaurant. In order to asset data, we use FourSquare and apply folium for visualizing a particular neighbor in which that we will observe customer \"traffic\" and predict an appropriate location of our restaurant in Phoenix."
   ]
  },
  {
   "cell_type": "markdown",
   "metadata": {},
   "source": [
    "#### Import tools we need."
   ]
  },
  {
   "cell_type": "code",
   "execution_count": 100,
   "metadata": {},
   "outputs": [
    {
     "name": "stdout",
     "output_type": "stream",
     "text": [
      "Collecting package metadata (current_repodata.json): ...working... done\n",
      "Solving environment: ...working... done\n",
      "\n",
      "# All requested packages already installed.\n",
      "\n",
      "Libraries imported.\n"
     ]
    }
   ],
   "source": [
    "import numpy as np # library to handle data in a vectorized manner\n",
    "\n",
    "import pandas as pd # library for data analsysis\n",
    "pd.set_option('display.max_columns', None)\n",
    "pd.set_option('display.max_rows', None)\n",
    "\n",
    "import requests # library to handle requests\n",
    "\n",
    "#from bs4 import BeautifulSoup\n",
    "import os\n",
    "\n",
    "!conda install -c conda-forge folium=0.5.0 --yes\n",
    "import folium # map rendering library\n",
    "from folium import plugins\n",
    "\n",
    "#!conda install -c conda-forge geopy --yes\n",
    "from geopy.geocoders import Nominatim # convert an address into latitude and longitude values\n",
    "import requests # library to handle requests\n",
    "\n",
    "# Matplotlib and associated plotting modules\n",
    "import matplotlib.pyplot as plt\n",
    "import matplotlib.cm as cm\n",
    "import matplotlib.colors as colors\n",
    "%matplotlib inline\n",
    "\n",
    "import seaborn as sns\n",
    "\n",
    "print('Libraries imported.')"
   ]
  },
  {
   "cell_type": "markdown",
   "metadata": {},
   "source": [
    "#### Enter Foursquare Client Information"
   ]
  },
  {
   "cell_type": "code",
   "execution_count": 28,
   "metadata": {},
   "outputs": [],
   "source": [
    "CLIENT_ID = '4V11HW4VE3OW5403FB0QNCP15DQJPGWIC5WEJYTSY33SO0JI' # your Foursquare ID\n",
    "CLIENT_SECRET = 'VUMKL05U5KTKHWGZDQUE3BUTYTRSN00S4JPRR03CGYLBGYWU' # your Foursquare Secret\n",
    "VERSION = '20180604' # Foursquare API version"
   ]
  },
  {
   "cell_type": "markdown",
   "metadata": {},
   "source": [
    "#### Use requests to get the latitude and longitude values of Phoenix and venus of our choice."
   ]
  },
  {
   "cell_type": "code",
   "execution_count": 91,
   "metadata": {},
   "outputs": [],
   "source": [
    "import requests\n",
    "\n",
    "request_parameters = {\n",
    "    \"client_id\": CLIENT_ID,\n",
    "    \"client_secret\": CLIENT_SECRET,\n",
    "    \"v\": '20210101',\n",
    "    \"query\": \"Chinese restaurant\",\n",
    "    \"near\": \"Phoenix, AZ\",\n",
    "    \"radius\": 2000,\n",
    "    \"limit\": 100}\n",
    "\n",
    "data = requests.get(\"https://api.foursquare.com/v2/venues/explore\", params=request_parameters)"
   ]
  },
  {
   "cell_type": "markdown",
   "metadata": {},
   "source": [
    "#### Transform data into json then request geocode."
   ]
  },
  {
   "cell_type": "code",
   "execution_count": 92,
   "metadata": {},
   "outputs": [
    {
     "data": {
      "text/plain": [
       "dict_keys(['suggestedFilters', 'geocode', 'headerLocation', 'headerFullLocation', 'headerLocationGranularity', 'query', 'totalResults', 'suggestedBounds', 'groups'])"
      ]
     },
     "execution_count": 92,
     "metadata": {},
     "output_type": "execute_result"
    }
   ],
   "source": [
    "d = data.json()[\"response\"]\n",
    "d.keys()"
   ]
  },
  {
   "cell_type": "code",
   "execution_count": 93,
   "metadata": {},
   "outputs": [
    {
     "data": {
      "text/plain": [
       "('city', 'Phoenix', 'Phoenix')"
      ]
     },
     "execution_count": 93,
     "metadata": {},
     "output_type": "execute_result"
    }
   ],
   "source": [
    "d[\"headerLocationGranularity\"], d[\"headerLocation\"], d[\"headerFullLocation\"]"
   ]
  },
  {
   "cell_type": "code",
   "execution_count": 94,
   "metadata": {},
   "outputs": [
    {
     "data": {
      "text/plain": [
       "{'what': '',\n",
       " 'where': 'phoenix az',\n",
       " 'center': {'lat': 33.44838, 'lng': -112.07404},\n",
       " 'displayString': 'Phoenix, AZ, United States',\n",
       " 'cc': 'US',\n",
       " 'geometry': {'bounds': {'ne': {'lat': 33.918391, 'lng': -111.92541},\n",
       "   'sw': {'lat': 33.290259999999996, 'lng': -112.324065}}},\n",
       " 'slug': 'phoenix-arizona',\n",
       " 'longId': '72057594043236591'}"
      ]
     },
     "execution_count": 94,
     "metadata": {},
     "output_type": "execute_result"
    }
   ],
   "source": [
    "d[\"suggestedBounds\"], d[\"totalResults\"]\n",
    "d[\"geocode\"]"
   ]
  },
  {
   "cell_type": "markdown",
   "metadata": {},
   "source": [
    "#### Creating items of objects Chinese restaurants and their attributes, then testing it."
   ]
  },
  {
   "cell_type": "code",
   "execution_count": 95,
   "metadata": {},
   "outputs": [
    {
     "name": "stdout",
     "output_type": "stream",
     "text": [
      "number of items: 20\n"
     ]
    },
    {
     "data": {
      "text/plain": [
       "{'reasons': {'count': 0,\n",
       "  'items': [{'summary': 'This spot is popular',\n",
       "    'type': 'general',\n",
       "    'reasonName': 'globalInteractionReason'}]},\n",
       " 'venue': {'id': '51a4187a498e776dbdf0a798',\n",
       "  'name': 'Panda Express',\n",
       "  'location': {'address': '401 E Jefferson St',\n",
       "   'lat': 33.44568053769315,\n",
       "   'lng': -112.0669919148652,\n",
       "   'labeledLatLngs': [{'label': 'display',\n",
       "     'lat': 33.44568053769315,\n",
       "     'lng': -112.0669919148652}],\n",
       "   'postalCode': '85004',\n",
       "   'cc': 'US',\n",
       "   'city': 'Phoenix',\n",
       "   'state': 'AZ',\n",
       "   'country': 'United States',\n",
       "   'formattedAddress': ['401 E Jefferson St',\n",
       "    'Phoenix, AZ 85004',\n",
       "    'United States']},\n",
       "  'categories': [{'id': '4bf58dd8d48988d145941735',\n",
       "    'name': 'Chinese Restaurant',\n",
       "    'pluralName': 'Chinese Restaurants',\n",
       "    'shortName': 'Chinese',\n",
       "    'icon': {'prefix': 'https://ss3.4sqi.net/img/categories_v2/food/asian_',\n",
       "     'suffix': '.png'},\n",
       "    'primary': True}],\n",
       "  'photos': {'count': 0, 'groups': []}},\n",
       " 'referralId': 'e-0-51a4187a498e776dbdf0a798-0'}"
      ]
     },
     "execution_count": 95,
     "metadata": {},
     "output_type": "execute_result"
    }
   ],
   "source": [
    "items = d[\"groups\"][0][\"items\"]\n",
    "print(\"number of items: %i\" % len(items))\n",
    "items[0]"
   ]
  },
  {
   "cell_type": "code",
   "execution_count": 96,
   "metadata": {},
   "outputs": [
    {
     "data": {
      "text/plain": [
       "{'reasons': {'count': 0,\n",
       "  'items': [{'summary': 'This spot is popular',\n",
       "    'type': 'general',\n",
       "    'reasonName': 'globalInteractionReason'}]},\n",
       " 'venue': {'id': '4bdb3ffb3904a593d077499e',\n",
       "  'name': \"Wong's Chinese Dining\",\n",
       "  'location': {'address': '1139 E Buckeye Rd',\n",
       "   'crossStreet': 'at S 12th St',\n",
       "   'lat': 33.436630125934,\n",
       "   'lng': -112.05673011297367,\n",
       "   'labeledLatLngs': [{'label': 'display',\n",
       "     'lat': 33.436630125934,\n",
       "     'lng': -112.05673011297367}],\n",
       "   'postalCode': '85034',\n",
       "   'cc': 'US',\n",
       "   'city': 'Phoenix',\n",
       "   'state': 'AZ',\n",
       "   'country': 'United States',\n",
       "   'formattedAddress': ['1139 E Buckeye Rd (at S 12th St)',\n",
       "    'Phoenix, AZ 85034',\n",
       "    'United States']},\n",
       "  'categories': [{'id': '4bf58dd8d48988d145941735',\n",
       "    'name': 'Chinese Restaurant',\n",
       "    'pluralName': 'Chinese Restaurants',\n",
       "    'shortName': 'Chinese',\n",
       "    'icon': {'prefix': 'https://ss3.4sqi.net/img/categories_v2/food/asian_',\n",
       "     'suffix': '.png'},\n",
       "    'primary': True}],\n",
       "  'delivery': {'id': '1763946',\n",
       "   'url': 'https://www.grubhub.com/restaurant/wongs-chinese-dining-1139-east-buckeye-road-phoenix/1763946?affiliate=1131&utm_source=foursquare-affiliate-network&utm_medium=affiliate&utm_campaign=1131&utm_content=1763946',\n",
       "   'provider': {'name': 'grubhub',\n",
       "    'icon': {'prefix': 'https://fastly.4sqi.net/img/general/cap/',\n",
       "     'sizes': [40, 50],\n",
       "     'name': '/delivery_provider_grubhub_20180129.png'}}},\n",
       "  'photos': {'count': 0, 'groups': []}},\n",
       " 'referralId': 'e-0-4bdb3ffb3904a593d077499e-1'}"
      ]
     },
     "execution_count": 96,
     "metadata": {},
     "output_type": "execute_result"
    }
   ],
   "source": [
    "items[1]"
   ]
  },
  {
   "cell_type": "code",
   "execution_count": 97,
   "metadata": {},
   "outputs": [
    {
     "name": "stdout",
     "output_type": "stream",
     "text": [
      "{'address': '401 E Jefferson St', 'lat': 33.44568053769315, 'lng': -112.0669919148652, 'labeledLatLngs': [{'label': 'display', 'lat': 33.44568053769315, 'lng': -112.0669919148652}], 'postalCode': '85004', 'cc': 'US', 'city': 'Phoenix', 'state': 'AZ', 'country': 'United States', 'formattedAddress': ['401 E Jefferson St', 'Phoenix, AZ 85004', 'United States']}\n",
      "{'address': '1139 E Buckeye Rd', 'crossStreet': 'at S 12th St', 'lat': 33.436630125934, 'lng': -112.05673011297367, 'labeledLatLngs': [{'label': 'display', 'lat': 33.436630125934, 'lng': -112.05673011297367}], 'postalCode': '85034', 'cc': 'US', 'city': 'Phoenix', 'state': 'AZ', 'country': 'United States', 'formattedAddress': ['1139 E Buckeye Rd (at S 12th St)', 'Phoenix, AZ 85034', 'United States']}\n",
      "{'address': '302 E Flower St', 'crossStreet': 'at N 3rd St', 'lat': 33.48586836799868, 'lng': -112.06903472542763, 'labeledLatLngs': [{'label': 'display', 'lat': 33.48586836799868, 'lng': -112.06903472542763}, {'label': 'entrance', 'lat': 33.485778, 'lng': -112.069076}], 'postalCode': '85012', 'cc': 'US', 'city': 'Phoenix', 'state': 'AZ', 'country': 'United States', 'formattedAddress': ['302 E Flower St (at N 3rd St)', 'Phoenix, AZ 85012', 'United States']}\n",
      "{'address': '1502 W Thomas Rd', 'crossStreet': 'at N 15th Ave', 'lat': 33.4807100002017, 'lng': -112.09173677364059, 'labeledLatLngs': [{'label': 'display', 'lat': 33.4807100002017, 'lng': -112.09173677364059}, {'label': 'entrance', 'lat': 33.480665, 'lng': -112.09169}], 'postalCode': '85015', 'cc': 'US', 'city': 'Phoenix', 'state': 'AZ', 'country': 'United States', 'formattedAddress': ['1502 W Thomas Rd (at N 15th Ave)', 'Phoenix, AZ 85015', 'United States']}\n",
      "{'lat': 33.43923672861721, 'lng': -112.0735298712004, 'labeledLatLngs': [{'label': 'display', 'lat': 33.43923672861721, 'lng': -112.0735298712004}], 'postalCode': '85041', 'cc': 'US', 'city': 'Phoenix', 'state': 'AZ', 'country': 'United States', 'formattedAddress': ['Phoenix, AZ 85041', 'United States']}\n",
      "{'address': '1714 E Broadway Rd', 'lat': 33.40704408256393, 'lng': -112.04421566726634, 'labeledLatLngs': [{'label': 'display', 'lat': 33.40704408256393, 'lng': -112.04421566726634}], 'postalCode': '85040', 'cc': 'US', 'city': 'Phoenix', 'state': 'AZ', 'country': 'United States', 'formattedAddress': ['1714 E Broadway Rd', 'Phoenix, AZ 85040', 'United States']}\n",
      "{'address': '998 E Indian School Rd', 'crossStreet': 'at N 10th St', 'lat': 33.49504128170082, 'lng': -112.06132086071646, 'labeledLatLngs': [{'label': 'display', 'lat': 33.49504128170082, 'lng': -112.06132086071646}], 'postalCode': '85014', 'cc': 'US', 'city': 'Phoenix', 'state': 'AZ', 'country': 'United States', 'formattedAddress': ['998 E Indian School Rd (at N 10th St)', 'Phoenix, AZ 85014', 'United States']}\n",
      "{'address': '2801 N Central Ave', 'lat': 33.47907, 'lng': -112.073306, 'labeledLatLngs': [{'label': 'entrance', 'lat': 33.479302, 'lng': -112.073394}, {'label': 'display', 'lat': 33.47907, 'lng': -112.073306}], 'postalCode': '85004', 'cc': 'US', 'city': 'Phoenix', 'state': 'AZ', 'country': 'United States', 'formattedAddress': ['2801 N Central Ave', 'Phoenix, AZ 85004', 'United States']}\n",
      "{'address': '545 W Thomas Rd', 'crossStreet': 'at 7th Ave', 'lat': 33.48020911555612, 'lng': -112.08261777656587, 'labeledLatLngs': [{'label': 'display', 'lat': 33.48020911555612, 'lng': -112.08261777656587}, {'label': 'entrance', 'lat': 33.480204, 'lng': -112.082479}], 'postalCode': '85013', 'cc': 'US', 'city': 'Phoenix', 'state': 'AZ', 'country': 'United States', 'formattedAddress': ['545 W Thomas Rd (at 7th Ave)', 'Phoenix, AZ 85013', 'United States']}\n",
      "{'address': '935 W Southern Ave', 'crossStreet': '7th Avenue and Southern', 'lat': 33.39174270629883, 'lng': -112.08470153808594, 'labeledLatLngs': [{'label': 'display', 'lat': 33.39174270629883, 'lng': -112.08470153808594}], 'postalCode': '85041', 'cc': 'US', 'city': 'Phoenix', 'state': 'AZ', 'country': 'United States', 'formattedAddress': ['935 W Southern Ave (7th Avenue and Southern)', 'Phoenix, AZ 85041', 'United States']}\n",
      "{'address': '3302 W Thomas Rd', 'lat': 33.480916, 'lng': -112.130715, 'labeledLatLngs': [{'label': 'display', 'lat': 33.480916, 'lng': -112.130715}, {'label': 'entrance', 'lat': 33.480822, 'lng': -112.130728}], 'postalCode': '85017', 'cc': 'US', 'city': 'Phoenix', 'state': 'AZ', 'country': 'United States', 'formattedAddress': ['3302 W Thomas Rd', 'Phoenix, AZ 85017', 'United States']}\n",
      "{'address': '914 E Camelback Rd', 'crossStreet': 'at 10th Pl.', 'lat': 33.509861584349466, 'lng': -112.06114123201033, 'labeledLatLngs': [{'label': 'display', 'lat': 33.509861584349466, 'lng': -112.06114123201033}, {'label': 'entrance', 'lat': 33.509733, 'lng': -112.060978}], 'postalCode': '85014', 'cc': 'US', 'city': 'Phoenix', 'state': 'AZ', 'country': 'United States', 'formattedAddress': ['914 E Camelback Rd (at 10th Pl.)', 'Phoenix, AZ 85014', 'United States']}\n",
      "{'address': '1520 W Indian School Rd', 'lat': 33.495277404785156, 'lng': -112.09228515625, 'labeledLatLngs': [{'label': 'display', 'lat': 33.495277404785156, 'lng': -112.09228515625}], 'postalCode': '85015', 'cc': 'US', 'city': 'Phoenix', 'state': 'AZ', 'country': 'United States', 'formattedAddress': ['1520 W Indian School Rd', 'Phoenix, AZ 85015', 'United States']}\n",
      "{'address': '1520 W Indian School Rd Ste 1', 'crossStreet': '15th Ave', 'lat': 33.495492, 'lng': -112.092242, 'labeledLatLngs': [{'label': 'display', 'lat': 33.495492, 'lng': -112.092242}], 'postalCode': '85015', 'cc': 'US', 'city': 'Phoenix', 'state': 'AZ', 'country': 'United States', 'formattedAddress': ['1520 W Indian School Rd Ste 1 (15th Ave)', 'Phoenix, AZ 85015', 'United States']}\n",
      "{'address': '3400 W Van Buren St', 'lat': 33.451025, 'lng': -112.133544, 'labeledLatLngs': [{'label': 'display', 'lat': 33.451025, 'lng': -112.133544}, {'label': 'entrance', 'lat': 33.451128, 'lng': -112.133483}], 'postalCode': '85009', 'cc': 'US', 'city': 'Phoenix', 'state': 'AZ', 'country': 'United States', 'formattedAddress': ['3400 W Van Buren St', 'Phoenix, AZ 85009', 'United States']}\n",
      "{'address': '2939 N 24th St', 'lat': 33.481879, 'lng': -112.02988400000001, 'labeledLatLngs': [{'label': 'display', 'lat': 33.481879, 'lng': -112.02988400000001}], 'postalCode': '85016', 'cc': 'US', 'city': 'Phoenix', 'state': 'AZ', 'country': 'United States', 'formattedAddress': ['2939 N 24th St', 'Phoenix, AZ 85016', 'United States']}\n",
      "{'address': '5219 S 7th St', 'lat': 33.398832, 'lng': -112.064353, 'labeledLatLngs': [{'label': 'display', 'lat': 33.398832, 'lng': -112.064353}, {'label': 'entrance', 'lat': 33.39883, 'lng': -112.06442}], 'postalCode': '85040', 'cc': 'US', 'city': 'Phoenix', 'state': 'AZ', 'country': 'United States', 'formattedAddress': ['5219 S 7th St', 'Phoenix, AZ 85040', 'United States']}\n",
      "{'address': '4515 N 7th Ave', 'lat': 33.50276513136434, 'lng': -112.08219860422271, 'labeledLatLngs': [{'label': 'display', 'lat': 33.50276513136434, 'lng': -112.08219860422271}, {'label': 'entrance', 'lat': 33.502684, 'lng': -112.082223}], 'postalCode': '85013', 'cc': 'US', 'city': 'Phoenix', 'state': 'AZ', 'country': 'United States', 'formattedAddress': ['4515 N 7th Ave', 'Phoenix, AZ 85013', 'United States']}\n",
      "{'address': '220 E Southern Ave', 'lat': 33.39250946044922, 'lng': -112.0709457397461, 'labeledLatLngs': [{'label': 'display', 'lat': 33.39250946044922, 'lng': -112.0709457397461}], 'postalCode': '85040', 'cc': 'US', 'city': 'Phoenix', 'state': 'AZ', 'country': 'United States', 'formattedAddress': ['220 E Southern Ave', 'Phoenix, AZ 85040', 'United States']}\n",
      "{'address': '6044 S 16th St', 'lat': 33.391441345214844, 'lng': -112.04911804199219, 'labeledLatLngs': [{'label': 'display', 'lat': 33.391441345214844, 'lng': -112.04911804199219}], 'postalCode': '85042', 'cc': 'US', 'city': 'Phoenix', 'state': 'AZ', 'country': 'United States', 'formattedAddress': ['6044 S 16th St', 'Phoenix, AZ 85042', 'United States']}\n",
      "found 20 cafes\n"
     ]
    },
    {
     "data": {
      "text/html": [
       "<div>\n",
       "<style scoped>\n",
       "    .dataframe tbody tr th:only-of-type {\n",
       "        vertical-align: middle;\n",
       "    }\n",
       "\n",
       "    .dataframe tbody tr th {\n",
       "        vertical-align: top;\n",
       "    }\n",
       "\n",
       "    .dataframe thead th {\n",
       "        text-align: right;\n",
       "    }\n",
       "</style>\n",
       "<table border=\"1\" class=\"dataframe\">\n",
       "  <thead>\n",
       "    <tr style=\"text-align: right;\">\n",
       "      <th></th>\n",
       "      <th>uid</th>\n",
       "      <th>name</th>\n",
       "      <th>shortname</th>\n",
       "      <th>address</th>\n",
       "      <th>postalcode</th>\n",
       "      <th>lat</th>\n",
       "      <th>lng</th>\n",
       "    </tr>\n",
       "  </thead>\n",
       "  <tbody>\n",
       "    <tr>\n",
       "      <th>0</th>\n",
       "      <td>51a4187a498e776dbdf0a798</td>\n",
       "      <td>Panda Express</td>\n",
       "      <td>Chinese</td>\n",
       "      <td></td>\n",
       "      <td>85004</td>\n",
       "      <td>33.445681</td>\n",
       "      <td>-112.066992</td>\n",
       "    </tr>\n",
       "    <tr>\n",
       "      <th>1</th>\n",
       "      <td>4bdb3ffb3904a593d077499e</td>\n",
       "      <td>Wong's Chinese Dining</td>\n",
       "      <td>Chinese</td>\n",
       "      <td></td>\n",
       "      <td>85034</td>\n",
       "      <td>33.436630</td>\n",
       "      <td>-112.056730</td>\n",
       "    </tr>\n",
       "    <tr>\n",
       "      <th>2</th>\n",
       "      <td>413ba880f964a520311b1fe3</td>\n",
       "      <td>China Chili</td>\n",
       "      <td>Chinese</td>\n",
       "      <td></td>\n",
       "      <td>85012</td>\n",
       "      <td>33.485868</td>\n",
       "      <td>-112.069035</td>\n",
       "    </tr>\n",
       "    <tr>\n",
       "      <th>3</th>\n",
       "      <td>4b58bbdaf964a520206828e3</td>\n",
       "      <td>Mu Shu</td>\n",
       "      <td>Chinese</td>\n",
       "      <td></td>\n",
       "      <td>85015</td>\n",
       "      <td>33.480710</td>\n",
       "      <td>-112.091737</td>\n",
       "    </tr>\n",
       "    <tr>\n",
       "      <th>4</th>\n",
       "      <td>5101ca8de4b02714c07746df</td>\n",
       "      <td>New Garden Chinese Central &amp; Hadley</td>\n",
       "      <td>Chinese</td>\n",
       "      <td></td>\n",
       "      <td>85041</td>\n",
       "      <td>33.439237</td>\n",
       "      <td>-112.073530</td>\n",
       "    </tr>\n",
       "  </tbody>\n",
       "</table>\n",
       "</div>"
      ],
      "text/plain": [
       "                        uid                                 name shortname  \\\n",
       "0  51a4187a498e776dbdf0a798                        Panda Express   Chinese   \n",
       "1  4bdb3ffb3904a593d077499e                Wong's Chinese Dining   Chinese   \n",
       "2  413ba880f964a520311b1fe3                          China Chili   Chinese   \n",
       "3  4b58bbdaf964a520206828e3                               Mu Shu   Chinese   \n",
       "4  5101ca8de4b02714c07746df  New Garden Chinese Central & Hadley   Chinese   \n",
       "\n",
       "  address postalcode        lat         lng  \n",
       "0              85004  33.445681 -112.066992  \n",
       "1              85034  33.436630 -112.056730  \n",
       "2              85012  33.485868 -112.069035  \n",
       "3              85015  33.480710 -112.091737  \n",
       "4              85041  33.439237 -112.073530  "
      ]
     },
     "execution_count": 97,
     "metadata": {},
     "output_type": "execute_result"
    }
   ],
   "source": [
    "df_raw = []\n",
    "for item in items:\n",
    "    venue = item[\"venue\"]\n",
    "    categories, uid, name, location = venue[\"categories\"], venue[\"id\"], venue[\"name\"], venue[\"location\"]\n",
    "    print(location)\n",
    "    assert len(categories) == 1\n",
    "    shortname = categories[0][\"shortName\"]\n",
    "    address =  ''\n",
    "    if hasattr(location, 'address'):\n",
    "      address = location['address']\n",
    "    if not \"postalCode\" in location:\n",
    "        continue\n",
    "    postalcode = location[\"postalCode\"]\n",
    "    lat = location[\"lat\"]\n",
    "    lng = location[\"lng\"]\n",
    "    datarow = (uid, name, shortname, address, postalcode, lat, lng)\n",
    "    df_raw.append(datarow)\n",
    "df = pd.DataFrame(df_raw, columns=[\"uid\", \"name\", \"shortname\", \"address\", \"postalcode\", \"lat\", \"lng\"])\n",
    "print(\"found %i cafes\" % len(df))\n",
    "df.head()"
   ]
  },
  {
   "cell_type": "code",
   "execution_count": 98,
   "metadata": {},
   "outputs": [
    {
     "data": {
      "text/plain": [
       "{'lat': 33.44838, 'lng': -112.07404}"
      ]
     },
     "execution_count": 98,
     "metadata": {},
     "output_type": "execute_result"
    }
   ],
   "source": [
    "Phoenix_center = d[\"geocode\"][\"center\"]\n",
    "Phoenix_center"
   ]
  },
  {
   "cell_type": "markdown",
   "metadata": {},
   "source": [
    "### Print a heat map of Chinese restaurants in the center of Phoenix. \n",
    "Get coordinates of Phoenix and create folium map to help us visualize the customer flow distribution."
   ]
  },
  {
   "cell_type": "code",
   "execution_count": 142,
   "metadata": {},
   "outputs": [
    {
     "data": {
      "text/html": [
       "<div style=\"width:100%;\"><div style=\"position:relative;width:100%;height:0;padding-bottom:60%;\"><span style=\"color:#565656\">Make this Notebook Trusted to load map: File -> Trust Notebook</span><iframe src=\"about:blank\" style=\"position:absolute;width:100%;height:100%;left:0;top:0;border:none !important;\" data-html=%3C%21DOCTYPE%20html%3E%0A%3Chead%3E%20%20%20%20%0A%20%20%20%20%3Cmeta%20http-equiv%3D%22content-type%22%20content%3D%22text/html%3B%20charset%3DUTF-8%22%20/%3E%0A%20%20%20%20%3Cscript%3EL_PREFER_CANVAS%20%3D%20false%3B%20L_NO_TOUCH%20%3D%20false%3B%20L_DISABLE_3D%20%3D%20false%3B%3C/script%3E%0A%20%20%20%20%3Cscript%20src%3D%22https%3A//cdn.jsdelivr.net/npm/leaflet%401.2.0/dist/leaflet.js%22%3E%3C/script%3E%0A%20%20%20%20%3Cscript%20src%3D%22https%3A//ajax.googleapis.com/ajax/libs/jquery/1.11.1/jquery.min.js%22%3E%3C/script%3E%0A%20%20%20%20%3Cscript%20src%3D%22https%3A//maxcdn.bootstrapcdn.com/bootstrap/3.2.0/js/bootstrap.min.js%22%3E%3C/script%3E%0A%20%20%20%20%3Cscript%20src%3D%22https%3A//cdnjs.cloudflare.com/ajax/libs/Leaflet.awesome-markers/2.0.2/leaflet.awesome-markers.js%22%3E%3C/script%3E%0A%20%20%20%20%3Clink%20rel%3D%22stylesheet%22%20href%3D%22https%3A//cdn.jsdelivr.net/npm/leaflet%401.2.0/dist/leaflet.css%22/%3E%0A%20%20%20%20%3Clink%20rel%3D%22stylesheet%22%20href%3D%22https%3A//maxcdn.bootstrapcdn.com/bootstrap/3.2.0/css/bootstrap.min.css%22/%3E%0A%20%20%20%20%3Clink%20rel%3D%22stylesheet%22%20href%3D%22https%3A//maxcdn.bootstrapcdn.com/bootstrap/3.2.0/css/bootstrap-theme.min.css%22/%3E%0A%20%20%20%20%3Clink%20rel%3D%22stylesheet%22%20href%3D%22https%3A//maxcdn.bootstrapcdn.com/font-awesome/4.6.3/css/font-awesome.min.css%22/%3E%0A%20%20%20%20%3Clink%20rel%3D%22stylesheet%22%20href%3D%22https%3A//cdnjs.cloudflare.com/ajax/libs/Leaflet.awesome-markers/2.0.2/leaflet.awesome-markers.css%22/%3E%0A%20%20%20%20%3Clink%20rel%3D%22stylesheet%22%20href%3D%22https%3A//rawgit.com/python-visualization/folium/master/folium/templates/leaflet.awesome.rotate.css%22/%3E%0A%20%20%20%20%3Cstyle%3Ehtml%2C%20body%20%7Bwidth%3A%20100%25%3Bheight%3A%20100%25%3Bmargin%3A%200%3Bpadding%3A%200%3B%7D%3C/style%3E%0A%20%20%20%20%3Cstyle%3E%23map%20%7Bposition%3Aabsolute%3Btop%3A0%3Bbottom%3A0%3Bright%3A0%3Bleft%3A0%3B%7D%3C/style%3E%0A%20%20%20%20%0A%20%20%20%20%20%20%20%20%20%20%20%20%3Cstyle%3E%20%23map_f215772de0e1489aa1df9ffd12c76891%20%7B%0A%20%20%20%20%20%20%20%20%20%20%20%20%20%20%20%20position%20%3A%20relative%3B%0A%20%20%20%20%20%20%20%20%20%20%20%20%20%20%20%20width%20%3A%20100.0%25%3B%0A%20%20%20%20%20%20%20%20%20%20%20%20%20%20%20%20height%3A%20100.0%25%3B%0A%20%20%20%20%20%20%20%20%20%20%20%20%20%20%20%20left%3A%200.0%25%3B%0A%20%20%20%20%20%20%20%20%20%20%20%20%20%20%20%20top%3A%200.0%25%3B%0A%20%20%20%20%20%20%20%20%20%20%20%20%20%20%20%20%7D%0A%20%20%20%20%20%20%20%20%20%20%20%20%3C/style%3E%0A%20%20%20%20%20%20%20%20%0A%20%20%20%20%3Cscript%20src%3D%22https%3A//leaflet.github.io/Leaflet.heat/dist/leaflet-heat.js%22%3E%3C/script%3E%0A%3C/head%3E%0A%3Cbody%3E%20%20%20%20%0A%20%20%20%20%0A%20%20%20%20%20%20%20%20%20%20%20%20%3Cdiv%20class%3D%22folium-map%22%20id%3D%22map_f215772de0e1489aa1df9ffd12c76891%22%20%3E%3C/div%3E%0A%20%20%20%20%20%20%20%20%0A%3C/body%3E%0A%3Cscript%3E%20%20%20%20%0A%20%20%20%20%0A%0A%20%20%20%20%20%20%20%20%20%20%20%20%0A%20%20%20%20%20%20%20%20%20%20%20%20%20%20%20%20var%20bounds%20%3D%20null%3B%0A%20%20%20%20%20%20%20%20%20%20%20%20%0A%0A%20%20%20%20%20%20%20%20%20%20%20%20var%20map_f215772de0e1489aa1df9ffd12c76891%20%3D%20L.map%28%0A%20%20%20%20%20%20%20%20%20%20%20%20%20%20%20%20%20%20%20%20%20%20%20%20%20%20%20%20%20%20%20%20%20%20%27map_f215772de0e1489aa1df9ffd12c76891%27%2C%0A%20%20%20%20%20%20%20%20%20%20%20%20%20%20%20%20%20%20%20%20%20%20%20%20%20%20%20%20%20%20%20%20%20%20%7Bcenter%3A%20%5B33.44838%2C-112.07404%5D%2C%0A%20%20%20%20%20%20%20%20%20%20%20%20%20%20%20%20%20%20%20%20%20%20%20%20%20%20%20%20%20%20%20%20%20%20zoom%3A%2012%2C%0A%20%20%20%20%20%20%20%20%20%20%20%20%20%20%20%20%20%20%20%20%20%20%20%20%20%20%20%20%20%20%20%20%20%20maxBounds%3A%20bounds%2C%0A%20%20%20%20%20%20%20%20%20%20%20%20%20%20%20%20%20%20%20%20%20%20%20%20%20%20%20%20%20%20%20%20%20%20layers%3A%20%5B%5D%2C%0A%20%20%20%20%20%20%20%20%20%20%20%20%20%20%20%20%20%20%20%20%20%20%20%20%20%20%20%20%20%20%20%20%20%20worldCopyJump%3A%20false%2C%0A%20%20%20%20%20%20%20%20%20%20%20%20%20%20%20%20%20%20%20%20%20%20%20%20%20%20%20%20%20%20%20%20%20%20crs%3A%20L.CRS.EPSG3857%0A%20%20%20%20%20%20%20%20%20%20%20%20%20%20%20%20%20%20%20%20%20%20%20%20%20%20%20%20%20%20%20%20%20%7D%29%3B%0A%20%20%20%20%20%20%20%20%20%20%20%20%0A%20%20%20%20%20%20%20%20%0A%20%20%20%20%0A%20%20%20%20%20%20%20%20%20%20%20%20var%20tile_layer_623439dab2334b898510d7ea837b5ced%20%3D%20L.tileLayer%28%0A%20%20%20%20%20%20%20%20%20%20%20%20%20%20%20%20%27https%3A//%7Bs%7D.tile.openstreetmap.org/%7Bz%7D/%7Bx%7D/%7By%7D.png%27%2C%0A%20%20%20%20%20%20%20%20%20%20%20%20%20%20%20%20%7B%0A%20%20%22attribution%22%3A%20null%2C%0A%20%20%22detectRetina%22%3A%20false%2C%0A%20%20%22maxZoom%22%3A%2018%2C%0A%20%20%22minZoom%22%3A%201%2C%0A%20%20%22noWrap%22%3A%20false%2C%0A%20%20%22subdomains%22%3A%20%22abc%22%0A%7D%0A%20%20%20%20%20%20%20%20%20%20%20%20%20%20%20%20%29.addTo%28map_f215772de0e1489aa1df9ffd12c76891%29%3B%0A%20%20%20%20%20%20%20%20%0A%20%20%20%20%0A%20%20%20%20%20%20%20%20%20%20%20%20var%20circle_marker_a9e28a21134a4897867b4b893d28b3d3%20%3D%20L.circleMarker%28%0A%20%20%20%20%20%20%20%20%20%20%20%20%20%20%20%20%5B33.44568053769315%2C-112.0669919148652%5D%2C%0A%20%20%20%20%20%20%20%20%20%20%20%20%20%20%20%20%7B%0A%20%20%22bubblingMouseEvents%22%3A%20true%2C%0A%20%20%22color%22%3A%20%22red%22%2C%0A%20%20%22dashArray%22%3A%20null%2C%0A%20%20%22dashOffset%22%3A%20null%2C%0A%20%20%22fill%22%3A%20true%2C%0A%20%20%22fillColor%22%3A%20%22%233186cc%22%2C%0A%20%20%22fillOpacity%22%3A%200.7%2C%0A%20%20%22fillRule%22%3A%20%22evenodd%22%2C%0A%20%20%22lineCap%22%3A%20%22round%22%2C%0A%20%20%22lineJoin%22%3A%20%22round%22%2C%0A%20%20%22opacity%22%3A%201.0%2C%0A%20%20%22radius%22%3A%205%2C%0A%20%20%22stroke%22%3A%20true%2C%0A%20%20%22weight%22%3A%203%0A%7D%0A%20%20%20%20%20%20%20%20%20%20%20%20%20%20%20%20%29.addTo%28map_f215772de0e1489aa1df9ffd12c76891%29%3B%0A%20%20%20%20%20%20%20%20%20%20%20%20%0A%20%20%20%20%0A%20%20%20%20%20%20%20%20%20%20%20%20var%20popup_70fc16699f594001a59c9026ad8c104a%20%3D%20L.popup%28%7BmaxWidth%3A%20%27300%27%7D%29%3B%0A%0A%20%20%20%20%20%20%20%20%20%20%20%20%0A%20%20%20%20%20%20%20%20%20%20%20%20%20%20%20%20var%20html_094d5126f0ae40ac887d036576c3b157%20%3D%20%24%28%27%3Cdiv%20id%3D%22html_094d5126f0ae40ac887d036576c3b157%22%20style%3D%22width%3A%20100.0%25%3B%20height%3A%20100.0%25%3B%22%3EPanda%20Express%3C/div%3E%27%29%5B0%5D%3B%0A%20%20%20%20%20%20%20%20%20%20%20%20%20%20%20%20popup_70fc16699f594001a59c9026ad8c104a.setContent%28html_094d5126f0ae40ac887d036576c3b157%29%3B%0A%20%20%20%20%20%20%20%20%20%20%20%20%0A%0A%20%20%20%20%20%20%20%20%20%20%20%20circle_marker_a9e28a21134a4897867b4b893d28b3d3.bindPopup%28popup_70fc16699f594001a59c9026ad8c104a%29%3B%0A%0A%20%20%20%20%20%20%20%20%20%20%20%20%0A%20%20%20%20%20%20%20%20%0A%20%20%20%20%0A%20%20%20%20%20%20%20%20%20%20%20%20var%20circle_marker_3829cf5a3de64c65a356b7f88fe2597a%20%3D%20L.circleMarker%28%0A%20%20%20%20%20%20%20%20%20%20%20%20%20%20%20%20%5B33.436630125934%2C-112.05673011297367%5D%2C%0A%20%20%20%20%20%20%20%20%20%20%20%20%20%20%20%20%7B%0A%20%20%22bubblingMouseEvents%22%3A%20true%2C%0A%20%20%22color%22%3A%20%22red%22%2C%0A%20%20%22dashArray%22%3A%20null%2C%0A%20%20%22dashOffset%22%3A%20null%2C%0A%20%20%22fill%22%3A%20true%2C%0A%20%20%22fillColor%22%3A%20%22%233186cc%22%2C%0A%20%20%22fillOpacity%22%3A%200.7%2C%0A%20%20%22fillRule%22%3A%20%22evenodd%22%2C%0A%20%20%22lineCap%22%3A%20%22round%22%2C%0A%20%20%22lineJoin%22%3A%20%22round%22%2C%0A%20%20%22opacity%22%3A%201.0%2C%0A%20%20%22radius%22%3A%205%2C%0A%20%20%22stroke%22%3A%20true%2C%0A%20%20%22weight%22%3A%203%0A%7D%0A%20%20%20%20%20%20%20%20%20%20%20%20%20%20%20%20%29.addTo%28map_f215772de0e1489aa1df9ffd12c76891%29%3B%0A%20%20%20%20%20%20%20%20%20%20%20%20%0A%20%20%20%20%0A%20%20%20%20%20%20%20%20%20%20%20%20var%20popup_0d4151537c0b40d28dd2280c7d6ab75e%20%3D%20L.popup%28%7BmaxWidth%3A%20%27300%27%7D%29%3B%0A%0A%20%20%20%20%20%20%20%20%20%20%20%20%0A%20%20%20%20%20%20%20%20%20%20%20%20%20%20%20%20var%20html_a418896bb00a47bf9a0f25bc580d9506%20%3D%20%24%28%27%3Cdiv%20id%3D%22html_a418896bb00a47bf9a0f25bc580d9506%22%20style%3D%22width%3A%20100.0%25%3B%20height%3A%20100.0%25%3B%22%3EWong%26%2339%3Bs%20Chinese%20Dining%3C/div%3E%27%29%5B0%5D%3B%0A%20%20%20%20%20%20%20%20%20%20%20%20%20%20%20%20popup_0d4151537c0b40d28dd2280c7d6ab75e.setContent%28html_a418896bb00a47bf9a0f25bc580d9506%29%3B%0A%20%20%20%20%20%20%20%20%20%20%20%20%0A%0A%20%20%20%20%20%20%20%20%20%20%20%20circle_marker_3829cf5a3de64c65a356b7f88fe2597a.bindPopup%28popup_0d4151537c0b40d28dd2280c7d6ab75e%29%3B%0A%0A%20%20%20%20%20%20%20%20%20%20%20%20%0A%20%20%20%20%20%20%20%20%0A%20%20%20%20%0A%20%20%20%20%20%20%20%20%20%20%20%20var%20circle_marker_d6a2945ad40048e19b8628ed5b0aa10b%20%3D%20L.circleMarker%28%0A%20%20%20%20%20%20%20%20%20%20%20%20%20%20%20%20%5B33.48586836799868%2C-112.06903472542763%5D%2C%0A%20%20%20%20%20%20%20%20%20%20%20%20%20%20%20%20%7B%0A%20%20%22bubblingMouseEvents%22%3A%20true%2C%0A%20%20%22color%22%3A%20%22red%22%2C%0A%20%20%22dashArray%22%3A%20null%2C%0A%20%20%22dashOffset%22%3A%20null%2C%0A%20%20%22fill%22%3A%20true%2C%0A%20%20%22fillColor%22%3A%20%22%233186cc%22%2C%0A%20%20%22fillOpacity%22%3A%200.7%2C%0A%20%20%22fillRule%22%3A%20%22evenodd%22%2C%0A%20%20%22lineCap%22%3A%20%22round%22%2C%0A%20%20%22lineJoin%22%3A%20%22round%22%2C%0A%20%20%22opacity%22%3A%201.0%2C%0A%20%20%22radius%22%3A%205%2C%0A%20%20%22stroke%22%3A%20true%2C%0A%20%20%22weight%22%3A%203%0A%7D%0A%20%20%20%20%20%20%20%20%20%20%20%20%20%20%20%20%29.addTo%28map_f215772de0e1489aa1df9ffd12c76891%29%3B%0A%20%20%20%20%20%20%20%20%20%20%20%20%0A%20%20%20%20%0A%20%20%20%20%20%20%20%20%20%20%20%20var%20popup_4d8f0f7eca4148388d843609e8a0dd6b%20%3D%20L.popup%28%7BmaxWidth%3A%20%27300%27%7D%29%3B%0A%0A%20%20%20%20%20%20%20%20%20%20%20%20%0A%20%20%20%20%20%20%20%20%20%20%20%20%20%20%20%20var%20html_01b742bf1d8849ec9300f4a2a3cebdd7%20%3D%20%24%28%27%3Cdiv%20id%3D%22html_01b742bf1d8849ec9300f4a2a3cebdd7%22%20style%3D%22width%3A%20100.0%25%3B%20height%3A%20100.0%25%3B%22%3EChina%20Chili%3C/div%3E%27%29%5B0%5D%3B%0A%20%20%20%20%20%20%20%20%20%20%20%20%20%20%20%20popup_4d8f0f7eca4148388d843609e8a0dd6b.setContent%28html_01b742bf1d8849ec9300f4a2a3cebdd7%29%3B%0A%20%20%20%20%20%20%20%20%20%20%20%20%0A%0A%20%20%20%20%20%20%20%20%20%20%20%20circle_marker_d6a2945ad40048e19b8628ed5b0aa10b.bindPopup%28popup_4d8f0f7eca4148388d843609e8a0dd6b%29%3B%0A%0A%20%20%20%20%20%20%20%20%20%20%20%20%0A%20%20%20%20%20%20%20%20%0A%20%20%20%20%0A%20%20%20%20%20%20%20%20%20%20%20%20var%20circle_marker_bdc4e84a7a5f4e3ca26a645feb9e3833%20%3D%20L.circleMarker%28%0A%20%20%20%20%20%20%20%20%20%20%20%20%20%20%20%20%5B33.4807100002017%2C-112.09173677364059%5D%2C%0A%20%20%20%20%20%20%20%20%20%20%20%20%20%20%20%20%7B%0A%20%20%22bubblingMouseEvents%22%3A%20true%2C%0A%20%20%22color%22%3A%20%22red%22%2C%0A%20%20%22dashArray%22%3A%20null%2C%0A%20%20%22dashOffset%22%3A%20null%2C%0A%20%20%22fill%22%3A%20true%2C%0A%20%20%22fillColor%22%3A%20%22%233186cc%22%2C%0A%20%20%22fillOpacity%22%3A%200.7%2C%0A%20%20%22fillRule%22%3A%20%22evenodd%22%2C%0A%20%20%22lineCap%22%3A%20%22round%22%2C%0A%20%20%22lineJoin%22%3A%20%22round%22%2C%0A%20%20%22opacity%22%3A%201.0%2C%0A%20%20%22radius%22%3A%205%2C%0A%20%20%22stroke%22%3A%20true%2C%0A%20%20%22weight%22%3A%203%0A%7D%0A%20%20%20%20%20%20%20%20%20%20%20%20%20%20%20%20%29.addTo%28map_f215772de0e1489aa1df9ffd12c76891%29%3B%0A%20%20%20%20%20%20%20%20%20%20%20%20%0A%20%20%20%20%0A%20%20%20%20%20%20%20%20%20%20%20%20var%20popup_c1c02614371641aea84df5dc82634cc8%20%3D%20L.popup%28%7BmaxWidth%3A%20%27300%27%7D%29%3B%0A%0A%20%20%20%20%20%20%20%20%20%20%20%20%0A%20%20%20%20%20%20%20%20%20%20%20%20%20%20%20%20var%20html_596cdb5db1a64a9bb114f0281680df63%20%3D%20%24%28%27%3Cdiv%20id%3D%22html_596cdb5db1a64a9bb114f0281680df63%22%20style%3D%22width%3A%20100.0%25%3B%20height%3A%20100.0%25%3B%22%3EMu%20Shu%3C/div%3E%27%29%5B0%5D%3B%0A%20%20%20%20%20%20%20%20%20%20%20%20%20%20%20%20popup_c1c02614371641aea84df5dc82634cc8.setContent%28html_596cdb5db1a64a9bb114f0281680df63%29%3B%0A%20%20%20%20%20%20%20%20%20%20%20%20%0A%0A%20%20%20%20%20%20%20%20%20%20%20%20circle_marker_bdc4e84a7a5f4e3ca26a645feb9e3833.bindPopup%28popup_c1c02614371641aea84df5dc82634cc8%29%3B%0A%0A%20%20%20%20%20%20%20%20%20%20%20%20%0A%20%20%20%20%20%20%20%20%0A%20%20%20%20%0A%20%20%20%20%20%20%20%20%20%20%20%20var%20circle_marker_b38f068fbe7345c79917fc96da032d4f%20%3D%20L.circleMarker%28%0A%20%20%20%20%20%20%20%20%20%20%20%20%20%20%20%20%5B33.43923672861721%2C-112.0735298712004%5D%2C%0A%20%20%20%20%20%20%20%20%20%20%20%20%20%20%20%20%7B%0A%20%20%22bubblingMouseEvents%22%3A%20true%2C%0A%20%20%22color%22%3A%20%22red%22%2C%0A%20%20%22dashArray%22%3A%20null%2C%0A%20%20%22dashOffset%22%3A%20null%2C%0A%20%20%22fill%22%3A%20true%2C%0A%20%20%22fillColor%22%3A%20%22%233186cc%22%2C%0A%20%20%22fillOpacity%22%3A%200.7%2C%0A%20%20%22fillRule%22%3A%20%22evenodd%22%2C%0A%20%20%22lineCap%22%3A%20%22round%22%2C%0A%20%20%22lineJoin%22%3A%20%22round%22%2C%0A%20%20%22opacity%22%3A%201.0%2C%0A%20%20%22radius%22%3A%205%2C%0A%20%20%22stroke%22%3A%20true%2C%0A%20%20%22weight%22%3A%203%0A%7D%0A%20%20%20%20%20%20%20%20%20%20%20%20%20%20%20%20%29.addTo%28map_f215772de0e1489aa1df9ffd12c76891%29%3B%0A%20%20%20%20%20%20%20%20%20%20%20%20%0A%20%20%20%20%0A%20%20%20%20%20%20%20%20%20%20%20%20var%20popup_0dd7f1bf670b42c8bc81d501ff714e82%20%3D%20L.popup%28%7BmaxWidth%3A%20%27300%27%7D%29%3B%0A%0A%20%20%20%20%20%20%20%20%20%20%20%20%0A%20%20%20%20%20%20%20%20%20%20%20%20%20%20%20%20var%20html_b214275d04584c74a51bb7cd62b95726%20%3D%20%24%28%27%3Cdiv%20id%3D%22html_b214275d04584c74a51bb7cd62b95726%22%20style%3D%22width%3A%20100.0%25%3B%20height%3A%20100.0%25%3B%22%3ENew%20Garden%20Chinese%20Central%20%26amp%3B%20Hadley%3C/div%3E%27%29%5B0%5D%3B%0A%20%20%20%20%20%20%20%20%20%20%20%20%20%20%20%20popup_0dd7f1bf670b42c8bc81d501ff714e82.setContent%28html_b214275d04584c74a51bb7cd62b95726%29%3B%0A%20%20%20%20%20%20%20%20%20%20%20%20%0A%0A%20%20%20%20%20%20%20%20%20%20%20%20circle_marker_b38f068fbe7345c79917fc96da032d4f.bindPopup%28popup_0dd7f1bf670b42c8bc81d501ff714e82%29%3B%0A%0A%20%20%20%20%20%20%20%20%20%20%20%20%0A%20%20%20%20%20%20%20%20%0A%20%20%20%20%0A%20%20%20%20%20%20%20%20%20%20%20%20var%20circle_marker_899ea498715d4d4ab1679dfd478d3505%20%3D%20L.circleMarker%28%0A%20%20%20%20%20%20%20%20%20%20%20%20%20%20%20%20%5B33.40704408256393%2C-112.04421566726634%5D%2C%0A%20%20%20%20%20%20%20%20%20%20%20%20%20%20%20%20%7B%0A%20%20%22bubblingMouseEvents%22%3A%20true%2C%0A%20%20%22color%22%3A%20%22red%22%2C%0A%20%20%22dashArray%22%3A%20null%2C%0A%20%20%22dashOffset%22%3A%20null%2C%0A%20%20%22fill%22%3A%20true%2C%0A%20%20%22fillColor%22%3A%20%22%233186cc%22%2C%0A%20%20%22fillOpacity%22%3A%200.7%2C%0A%20%20%22fillRule%22%3A%20%22evenodd%22%2C%0A%20%20%22lineCap%22%3A%20%22round%22%2C%0A%20%20%22lineJoin%22%3A%20%22round%22%2C%0A%20%20%22opacity%22%3A%201.0%2C%0A%20%20%22radius%22%3A%205%2C%0A%20%20%22stroke%22%3A%20true%2C%0A%20%20%22weight%22%3A%203%0A%7D%0A%20%20%20%20%20%20%20%20%20%20%20%20%20%20%20%20%29.addTo%28map_f215772de0e1489aa1df9ffd12c76891%29%3B%0A%20%20%20%20%20%20%20%20%20%20%20%20%0A%20%20%20%20%0A%20%20%20%20%20%20%20%20%20%20%20%20var%20popup_f168198e049e4648ba347dc203e88681%20%3D%20L.popup%28%7BmaxWidth%3A%20%27300%27%7D%29%3B%0A%0A%20%20%20%20%20%20%20%20%20%20%20%20%0A%20%20%20%20%20%20%20%20%20%20%20%20%20%20%20%20var%20html_af45fe1f54464018b13843b3fda13c7d%20%3D%20%24%28%27%3Cdiv%20id%3D%22html_af45fe1f54464018b13843b3fda13c7d%22%20style%3D%22width%3A%20100.0%25%3B%20height%3A%20100.0%25%3B%22%3ETams%20Chinese%20And%20Mexican%20Food%3C/div%3E%27%29%5B0%5D%3B%0A%20%20%20%20%20%20%20%20%20%20%20%20%20%20%20%20popup_f168198e049e4648ba347dc203e88681.setContent%28html_af45fe1f54464018b13843b3fda13c7d%29%3B%0A%20%20%20%20%20%20%20%20%20%20%20%20%0A%0A%20%20%20%20%20%20%20%20%20%20%20%20circle_marker_899ea498715d4d4ab1679dfd478d3505.bindPopup%28popup_f168198e049e4648ba347dc203e88681%29%3B%0A%0A%20%20%20%20%20%20%20%20%20%20%20%20%0A%20%20%20%20%20%20%20%20%0A%20%20%20%20%0A%20%20%20%20%20%20%20%20%20%20%20%20var%20circle_marker_9e7a60cb6b2f4e849b6ace96bd6ce58c%20%3D%20L.circleMarker%28%0A%20%20%20%20%20%20%20%20%20%20%20%20%20%20%20%20%5B33.49504128170082%2C-112.06132086071646%5D%2C%0A%20%20%20%20%20%20%20%20%20%20%20%20%20%20%20%20%7B%0A%20%20%22bubblingMouseEvents%22%3A%20true%2C%0A%20%20%22color%22%3A%20%22red%22%2C%0A%20%20%22dashArray%22%3A%20null%2C%0A%20%20%22dashOffset%22%3A%20null%2C%0A%20%20%22fill%22%3A%20true%2C%0A%20%20%22fillColor%22%3A%20%22%233186cc%22%2C%0A%20%20%22fillOpacity%22%3A%200.7%2C%0A%20%20%22fillRule%22%3A%20%22evenodd%22%2C%0A%20%20%22lineCap%22%3A%20%22round%22%2C%0A%20%20%22lineJoin%22%3A%20%22round%22%2C%0A%20%20%22opacity%22%3A%201.0%2C%0A%20%20%22radius%22%3A%205%2C%0A%20%20%22stroke%22%3A%20true%2C%0A%20%20%22weight%22%3A%203%0A%7D%0A%20%20%20%20%20%20%20%20%20%20%20%20%20%20%20%20%29.addTo%28map_f215772de0e1489aa1df9ffd12c76891%29%3B%0A%20%20%20%20%20%20%20%20%20%20%20%20%0A%20%20%20%20%0A%20%20%20%20%20%20%20%20%20%20%20%20var%20popup_a959d26a187c45feba1f0b2c1c44e5ab%20%3D%20L.popup%28%7BmaxWidth%3A%20%27300%27%7D%29%3B%0A%0A%20%20%20%20%20%20%20%20%20%20%20%20%0A%20%20%20%20%20%20%20%20%20%20%20%20%20%20%20%20var%20html_3e06c7688a824e33a4662898c856838c%20%3D%20%24%28%27%3Cdiv%20id%3D%22html_3e06c7688a824e33a4662898c856838c%22%20style%3D%22width%3A%20100.0%25%3B%20height%3A%20100.0%25%3B%22%3EPanda%20Express%3C/div%3E%27%29%5B0%5D%3B%0A%20%20%20%20%20%20%20%20%20%20%20%20%20%20%20%20popup_a959d26a187c45feba1f0b2c1c44e5ab.setContent%28html_3e06c7688a824e33a4662898c856838c%29%3B%0A%20%20%20%20%20%20%20%20%20%20%20%20%0A%0A%20%20%20%20%20%20%20%20%20%20%20%20circle_marker_9e7a60cb6b2f4e849b6ace96bd6ce58c.bindPopup%28popup_a959d26a187c45feba1f0b2c1c44e5ab%29%3B%0A%0A%20%20%20%20%20%20%20%20%20%20%20%20%0A%20%20%20%20%20%20%20%20%0A%20%20%20%20%0A%20%20%20%20%20%20%20%20%20%20%20%20var%20circle_marker_d2179d2b494841a7a714d0870b1a8b2e%20%3D%20L.circleMarker%28%0A%20%20%20%20%20%20%20%20%20%20%20%20%20%20%20%20%5B33.47907%2C-112.073306%5D%2C%0A%20%20%20%20%20%20%20%20%20%20%20%20%20%20%20%20%7B%0A%20%20%22bubblingMouseEvents%22%3A%20true%2C%0A%20%20%22color%22%3A%20%22red%22%2C%0A%20%20%22dashArray%22%3A%20null%2C%0A%20%20%22dashOffset%22%3A%20null%2C%0A%20%20%22fill%22%3A%20true%2C%0A%20%20%22fillColor%22%3A%20%22%233186cc%22%2C%0A%20%20%22fillOpacity%22%3A%200.7%2C%0A%20%20%22fillRule%22%3A%20%22evenodd%22%2C%0A%20%20%22lineCap%22%3A%20%22round%22%2C%0A%20%20%22lineJoin%22%3A%20%22round%22%2C%0A%20%20%22opacity%22%3A%201.0%2C%0A%20%20%22radius%22%3A%205%2C%0A%20%20%22stroke%22%3A%20true%2C%0A%20%20%22weight%22%3A%203%0A%7D%0A%20%20%20%20%20%20%20%20%20%20%20%20%20%20%20%20%29.addTo%28map_f215772de0e1489aa1df9ffd12c76891%29%3B%0A%20%20%20%20%20%20%20%20%20%20%20%20%0A%20%20%20%20%0A%20%20%20%20%20%20%20%20%20%20%20%20var%20popup_bf1d4fb6339b4e018edd4b2491c373aa%20%3D%20L.popup%28%7BmaxWidth%3A%20%27300%27%7D%29%3B%0A%0A%20%20%20%20%20%20%20%20%20%20%20%20%0A%20%20%20%20%20%20%20%20%20%20%20%20%20%20%20%20var%20html_ea22a7448c3447f49bb5db16d94fb443%20%3D%20%24%28%27%3Cdiv%20id%3D%22html_ea22a7448c3447f49bb5db16d94fb443%22%20style%3D%22width%3A%20100.0%25%3B%20height%3A%20100.0%25%3B%22%3ESiu%20Wok%3C/div%3E%27%29%5B0%5D%3B%0A%20%20%20%20%20%20%20%20%20%20%20%20%20%20%20%20popup_bf1d4fb6339b4e018edd4b2491c373aa.setContent%28html_ea22a7448c3447f49bb5db16d94fb443%29%3B%0A%20%20%20%20%20%20%20%20%20%20%20%20%0A%0A%20%20%20%20%20%20%20%20%20%20%20%20circle_marker_d2179d2b494841a7a714d0870b1a8b2e.bindPopup%28popup_bf1d4fb6339b4e018edd4b2491c373aa%29%3B%0A%0A%20%20%20%20%20%20%20%20%20%20%20%20%0A%20%20%20%20%20%20%20%20%0A%20%20%20%20%0A%20%20%20%20%20%20%20%20%20%20%20%20var%20circle_marker_7ec1ab4279004905ac07c8b3e1865232%20%3D%20L.circleMarker%28%0A%20%20%20%20%20%20%20%20%20%20%20%20%20%20%20%20%5B33.48020911555612%2C-112.08261777656587%5D%2C%0A%20%20%20%20%20%20%20%20%20%20%20%20%20%20%20%20%7B%0A%20%20%22bubblingMouseEvents%22%3A%20true%2C%0A%20%20%22color%22%3A%20%22red%22%2C%0A%20%20%22dashArray%22%3A%20null%2C%0A%20%20%22dashOffset%22%3A%20null%2C%0A%20%20%22fill%22%3A%20true%2C%0A%20%20%22fillColor%22%3A%20%22%233186cc%22%2C%0A%20%20%22fillOpacity%22%3A%200.7%2C%0A%20%20%22fillRule%22%3A%20%22evenodd%22%2C%0A%20%20%22lineCap%22%3A%20%22round%22%2C%0A%20%20%22lineJoin%22%3A%20%22round%22%2C%0A%20%20%22opacity%22%3A%201.0%2C%0A%20%20%22radius%22%3A%205%2C%0A%20%20%22stroke%22%3A%20true%2C%0A%20%20%22weight%22%3A%203%0A%7D%0A%20%20%20%20%20%20%20%20%20%20%20%20%20%20%20%20%29.addTo%28map_f215772de0e1489aa1df9ffd12c76891%29%3B%0A%20%20%20%20%20%20%20%20%20%20%20%20%0A%20%20%20%20%0A%20%20%20%20%20%20%20%20%20%20%20%20var%20popup_4c09cb8e25ab48a49606a193a3b32518%20%3D%20L.popup%28%7BmaxWidth%3A%20%27300%27%7D%29%3B%0A%0A%20%20%20%20%20%20%20%20%20%20%20%20%0A%20%20%20%20%20%20%20%20%20%20%20%20%20%20%20%20var%20html_d51c90dfb15641e7b7161298dddc165a%20%3D%20%24%28%27%3Cdiv%20id%3D%22html_d51c90dfb15641e7b7161298dddc165a%22%20style%3D%22width%3A%20100.0%25%3B%20height%3A%20100.0%25%3B%22%3ELong%20Wong%26%2339%3Bs%3C/div%3E%27%29%5B0%5D%3B%0A%20%20%20%20%20%20%20%20%20%20%20%20%20%20%20%20popup_4c09cb8e25ab48a49606a193a3b32518.setContent%28html_d51c90dfb15641e7b7161298dddc165a%29%3B%0A%20%20%20%20%20%20%20%20%20%20%20%20%0A%0A%20%20%20%20%20%20%20%20%20%20%20%20circle_marker_7ec1ab4279004905ac07c8b3e1865232.bindPopup%28popup_4c09cb8e25ab48a49606a193a3b32518%29%3B%0A%0A%20%20%20%20%20%20%20%20%20%20%20%20%0A%20%20%20%20%20%20%20%20%0A%20%20%20%20%0A%20%20%20%20%20%20%20%20%20%20%20%20var%20circle_marker_450bddb10d79470c97b9e62de0e240ca%20%3D%20L.circleMarker%28%0A%20%20%20%20%20%20%20%20%20%20%20%20%20%20%20%20%5B33.39174270629883%2C-112.08470153808594%5D%2C%0A%20%20%20%20%20%20%20%20%20%20%20%20%20%20%20%20%7B%0A%20%20%22bubblingMouseEvents%22%3A%20true%2C%0A%20%20%22color%22%3A%20%22red%22%2C%0A%20%20%22dashArray%22%3A%20null%2C%0A%20%20%22dashOffset%22%3A%20null%2C%0A%20%20%22fill%22%3A%20true%2C%0A%20%20%22fillColor%22%3A%20%22%233186cc%22%2C%0A%20%20%22fillOpacity%22%3A%200.7%2C%0A%20%20%22fillRule%22%3A%20%22evenodd%22%2C%0A%20%20%22lineCap%22%3A%20%22round%22%2C%0A%20%20%22lineJoin%22%3A%20%22round%22%2C%0A%20%20%22opacity%22%3A%201.0%2C%0A%20%20%22radius%22%3A%205%2C%0A%20%20%22stroke%22%3A%20true%2C%0A%20%20%22weight%22%3A%203%0A%7D%0A%20%20%20%20%20%20%20%20%20%20%20%20%20%20%20%20%29.addTo%28map_f215772de0e1489aa1df9ffd12c76891%29%3B%0A%20%20%20%20%20%20%20%20%20%20%20%20%0A%20%20%20%20%0A%20%20%20%20%20%20%20%20%20%20%20%20var%20popup_3dd671545c2443e5b9e10e051f80ab32%20%3D%20L.popup%28%7BmaxWidth%3A%20%27300%27%7D%29%3B%0A%0A%20%20%20%20%20%20%20%20%20%20%20%20%0A%20%20%20%20%20%20%20%20%20%20%20%20%20%20%20%20var%20html_08c00aea9036436abd5321f7af025875%20%3D%20%24%28%27%3Cdiv%20id%3D%22html_08c00aea9036436abd5321f7af025875%22%20style%3D%22width%3A%20100.0%25%3B%20height%3A%20100.0%25%3B%22%3EPanda%20Express%3C/div%3E%27%29%5B0%5D%3B%0A%20%20%20%20%20%20%20%20%20%20%20%20%20%20%20%20popup_3dd671545c2443e5b9e10e051f80ab32.setContent%28html_08c00aea9036436abd5321f7af025875%29%3B%0A%20%20%20%20%20%20%20%20%20%20%20%20%0A%0A%20%20%20%20%20%20%20%20%20%20%20%20circle_marker_450bddb10d79470c97b9e62de0e240ca.bindPopup%28popup_3dd671545c2443e5b9e10e051f80ab32%29%3B%0A%0A%20%20%20%20%20%20%20%20%20%20%20%20%0A%20%20%20%20%20%20%20%20%0A%20%20%20%20%0A%20%20%20%20%20%20%20%20%20%20%20%20var%20circle_marker_943aa219f33f44ad994e24c1c728dadc%20%3D%20L.circleMarker%28%0A%20%20%20%20%20%20%20%20%20%20%20%20%20%20%20%20%5B33.480916%2C-112.130715%5D%2C%0A%20%20%20%20%20%20%20%20%20%20%20%20%20%20%20%20%7B%0A%20%20%22bubblingMouseEvents%22%3A%20true%2C%0A%20%20%22color%22%3A%20%22red%22%2C%0A%20%20%22dashArray%22%3A%20null%2C%0A%20%20%22dashOffset%22%3A%20null%2C%0A%20%20%22fill%22%3A%20true%2C%0A%20%20%22fillColor%22%3A%20%22%233186cc%22%2C%0A%20%20%22fillOpacity%22%3A%200.7%2C%0A%20%20%22fillRule%22%3A%20%22evenodd%22%2C%0A%20%20%22lineCap%22%3A%20%22round%22%2C%0A%20%20%22lineJoin%22%3A%20%22round%22%2C%0A%20%20%22opacity%22%3A%201.0%2C%0A%20%20%22radius%22%3A%205%2C%0A%20%20%22stroke%22%3A%20true%2C%0A%20%20%22weight%22%3A%203%0A%7D%0A%20%20%20%20%20%20%20%20%20%20%20%20%20%20%20%20%29.addTo%28map_f215772de0e1489aa1df9ffd12c76891%29%3B%0A%20%20%20%20%20%20%20%20%20%20%20%20%0A%20%20%20%20%0A%20%20%20%20%20%20%20%20%20%20%20%20var%20popup_28bb8ace851c4d24b791a0abab0e2546%20%3D%20L.popup%28%7BmaxWidth%3A%20%27300%27%7D%29%3B%0A%0A%20%20%20%20%20%20%20%20%20%20%20%20%0A%20%20%20%20%20%20%20%20%20%20%20%20%20%20%20%20var%20html_bb44b2ee98be4239b2fc1b0a7c6e4ab9%20%3D%20%24%28%27%3Cdiv%20id%3D%22html_bb44b2ee98be4239b2fc1b0a7c6e4ab9%22%20style%3D%22width%3A%20100.0%25%3B%20height%3A%20100.0%25%3B%22%3EShanghai%20Express%3C/div%3E%27%29%5B0%5D%3B%0A%20%20%20%20%20%20%20%20%20%20%20%20%20%20%20%20popup_28bb8ace851c4d24b791a0abab0e2546.setContent%28html_bb44b2ee98be4239b2fc1b0a7c6e4ab9%29%3B%0A%20%20%20%20%20%20%20%20%20%20%20%20%0A%0A%20%20%20%20%20%20%20%20%20%20%20%20circle_marker_943aa219f33f44ad994e24c1c728dadc.bindPopup%28popup_28bb8ace851c4d24b791a0abab0e2546%29%3B%0A%0A%20%20%20%20%20%20%20%20%20%20%20%20%0A%20%20%20%20%20%20%20%20%0A%20%20%20%20%0A%20%20%20%20%20%20%20%20%20%20%20%20var%20circle_marker_e89bc50bfad444009553c810e4fa396c%20%3D%20L.circleMarker%28%0A%20%20%20%20%20%20%20%20%20%20%20%20%20%20%20%20%5B33.509861584349466%2C-112.06114123201033%5D%2C%0A%20%20%20%20%20%20%20%20%20%20%20%20%20%20%20%20%7B%0A%20%20%22bubblingMouseEvents%22%3A%20true%2C%0A%20%20%22color%22%3A%20%22red%22%2C%0A%20%20%22dashArray%22%3A%20null%2C%0A%20%20%22dashOffset%22%3A%20null%2C%0A%20%20%22fill%22%3A%20true%2C%0A%20%20%22fillColor%22%3A%20%22%233186cc%22%2C%0A%20%20%22fillOpacity%22%3A%200.7%2C%0A%20%20%22fillRule%22%3A%20%22evenodd%22%2C%0A%20%20%22lineCap%22%3A%20%22round%22%2C%0A%20%20%22lineJoin%22%3A%20%22round%22%2C%0A%20%20%22opacity%22%3A%201.0%2C%0A%20%20%22radius%22%3A%205%2C%0A%20%20%22stroke%22%3A%20true%2C%0A%20%20%22weight%22%3A%203%0A%7D%0A%20%20%20%20%20%20%20%20%20%20%20%20%20%20%20%20%29.addTo%28map_f215772de0e1489aa1df9ffd12c76891%29%3B%0A%20%20%20%20%20%20%20%20%20%20%20%20%0A%20%20%20%20%0A%20%20%20%20%20%20%20%20%20%20%20%20var%20popup_8c1f817b91644a14818f78f48fa4c26a%20%3D%20L.popup%28%7BmaxWidth%3A%20%27300%27%7D%29%3B%0A%0A%20%20%20%20%20%20%20%20%20%20%20%20%0A%20%20%20%20%20%20%20%20%20%20%20%20%20%20%20%20var%20html_d31f49c7d23b4d90a8caae702bc70d75%20%3D%20%24%28%27%3Cdiv%20id%3D%22html_d31f49c7d23b4d90a8caae702bc70d75%22%20style%3D%22width%3A%20100.0%25%3B%20height%3A%20100.0%25%3B%22%3ETokyo%20Express%3C/div%3E%27%29%5B0%5D%3B%0A%20%20%20%20%20%20%20%20%20%20%20%20%20%20%20%20popup_8c1f817b91644a14818f78f48fa4c26a.setContent%28html_d31f49c7d23b4d90a8caae702bc70d75%29%3B%0A%20%20%20%20%20%20%20%20%20%20%20%20%0A%0A%20%20%20%20%20%20%20%20%20%20%20%20circle_marker_e89bc50bfad444009553c810e4fa396c.bindPopup%28popup_8c1f817b91644a14818f78f48fa4c26a%29%3B%0A%0A%20%20%20%20%20%20%20%20%20%20%20%20%0A%20%20%20%20%20%20%20%20%0A%20%20%20%20%0A%20%20%20%20%20%20%20%20%20%20%20%20var%20circle_marker_3f33d2e3032543b7aacabf6c38d2d9af%20%3D%20L.circleMarker%28%0A%20%20%20%20%20%20%20%20%20%20%20%20%20%20%20%20%5B33.495277404785156%2C-112.09228515625%5D%2C%0A%20%20%20%20%20%20%20%20%20%20%20%20%20%20%20%20%7B%0A%20%20%22bubblingMouseEvents%22%3A%20true%2C%0A%20%20%22color%22%3A%20%22red%22%2C%0A%20%20%22dashArray%22%3A%20null%2C%0A%20%20%22dashOffset%22%3A%20null%2C%0A%20%20%22fill%22%3A%20true%2C%0A%20%20%22fillColor%22%3A%20%22%233186cc%22%2C%0A%20%20%22fillOpacity%22%3A%200.7%2C%0A%20%20%22fillRule%22%3A%20%22evenodd%22%2C%0A%20%20%22lineCap%22%3A%20%22round%22%2C%0A%20%20%22lineJoin%22%3A%20%22round%22%2C%0A%20%20%22opacity%22%3A%201.0%2C%0A%20%20%22radius%22%3A%205%2C%0A%20%20%22stroke%22%3A%20true%2C%0A%20%20%22weight%22%3A%203%0A%7D%0A%20%20%20%20%20%20%20%20%20%20%20%20%20%20%20%20%29.addTo%28map_f215772de0e1489aa1df9ffd12c76891%29%3B%0A%20%20%20%20%20%20%20%20%20%20%20%20%0A%20%20%20%20%0A%20%20%20%20%20%20%20%20%20%20%20%20var%20popup_d674edec97ae48b3bfed30b5bd4c2184%20%3D%20L.popup%28%7BmaxWidth%3A%20%27300%27%7D%29%3B%0A%0A%20%20%20%20%20%20%20%20%20%20%20%20%0A%20%20%20%20%20%20%20%20%20%20%20%20%20%20%20%20var%20html_198a7ab65e1e4a31b8b6bb1a7ae5445f%20%3D%20%24%28%27%3Cdiv%20id%3D%22html_198a7ab65e1e4a31b8b6bb1a7ae5445f%22%20style%3D%22width%3A%20100.0%25%3B%20height%3A%20100.0%25%3B%22%3EChina%20City%20Restaurant%3C/div%3E%27%29%5B0%5D%3B%0A%20%20%20%20%20%20%20%20%20%20%20%20%20%20%20%20popup_d674edec97ae48b3bfed30b5bd4c2184.setContent%28html_198a7ab65e1e4a31b8b6bb1a7ae5445f%29%3B%0A%20%20%20%20%20%20%20%20%20%20%20%20%0A%0A%20%20%20%20%20%20%20%20%20%20%20%20circle_marker_3f33d2e3032543b7aacabf6c38d2d9af.bindPopup%28popup_d674edec97ae48b3bfed30b5bd4c2184%29%3B%0A%0A%20%20%20%20%20%20%20%20%20%20%20%20%0A%20%20%20%20%20%20%20%20%0A%20%20%20%20%0A%20%20%20%20%20%20%20%20%20%20%20%20var%20circle_marker_5d034fa0b8ab42bc837bbe53257aa830%20%3D%20L.circleMarker%28%0A%20%20%20%20%20%20%20%20%20%20%20%20%20%20%20%20%5B33.495492%2C-112.092242%5D%2C%0A%20%20%20%20%20%20%20%20%20%20%20%20%20%20%20%20%7B%0A%20%20%22bubblingMouseEvents%22%3A%20true%2C%0A%20%20%22color%22%3A%20%22red%22%2C%0A%20%20%22dashArray%22%3A%20null%2C%0A%20%20%22dashOffset%22%3A%20null%2C%0A%20%20%22fill%22%3A%20true%2C%0A%20%20%22fillColor%22%3A%20%22%233186cc%22%2C%0A%20%20%22fillOpacity%22%3A%200.7%2C%0A%20%20%22fillRule%22%3A%20%22evenodd%22%2C%0A%20%20%22lineCap%22%3A%20%22round%22%2C%0A%20%20%22lineJoin%22%3A%20%22round%22%2C%0A%20%20%22opacity%22%3A%201.0%2C%0A%20%20%22radius%22%3A%205%2C%0A%20%20%22stroke%22%3A%20true%2C%0A%20%20%22weight%22%3A%203%0A%7D%0A%20%20%20%20%20%20%20%20%20%20%20%20%20%20%20%20%29.addTo%28map_f215772de0e1489aa1df9ffd12c76891%29%3B%0A%20%20%20%20%20%20%20%20%20%20%20%20%0A%20%20%20%20%0A%20%20%20%20%20%20%20%20%20%20%20%20var%20popup_b7d3502977b14154a863bf717cb4fed2%20%3D%20L.popup%28%7BmaxWidth%3A%20%27300%27%7D%29%3B%0A%0A%20%20%20%20%20%20%20%20%20%20%20%20%0A%20%20%20%20%20%20%20%20%20%20%20%20%20%20%20%20var%20html_5c33ae98bddf4381a5ce440c997ab24d%20%3D%20%24%28%27%3Cdiv%20id%3D%22html_5c33ae98bddf4381a5ce440c997ab24d%22%20style%3D%22width%3A%20100.0%25%3B%20height%3A%20100.0%25%3B%22%3ELucky%20Kitchen%3C/div%3E%27%29%5B0%5D%3B%0A%20%20%20%20%20%20%20%20%20%20%20%20%20%20%20%20popup_b7d3502977b14154a863bf717cb4fed2.setContent%28html_5c33ae98bddf4381a5ce440c997ab24d%29%3B%0A%20%20%20%20%20%20%20%20%20%20%20%20%0A%0A%20%20%20%20%20%20%20%20%20%20%20%20circle_marker_5d034fa0b8ab42bc837bbe53257aa830.bindPopup%28popup_b7d3502977b14154a863bf717cb4fed2%29%3B%0A%0A%20%20%20%20%20%20%20%20%20%20%20%20%0A%20%20%20%20%20%20%20%20%0A%20%20%20%20%0A%20%20%20%20%20%20%20%20%20%20%20%20var%20circle_marker_2c616268c6ed4478ae65f974d7338361%20%3D%20L.circleMarker%28%0A%20%20%20%20%20%20%20%20%20%20%20%20%20%20%20%20%5B33.451025%2C-112.133544%5D%2C%0A%20%20%20%20%20%20%20%20%20%20%20%20%20%20%20%20%7B%0A%20%20%22bubblingMouseEvents%22%3A%20true%2C%0A%20%20%22color%22%3A%20%22red%22%2C%0A%20%20%22dashArray%22%3A%20null%2C%0A%20%20%22dashOffset%22%3A%20null%2C%0A%20%20%22fill%22%3A%20true%2C%0A%20%20%22fillColor%22%3A%20%22%233186cc%22%2C%0A%20%20%22fillOpacity%22%3A%200.7%2C%0A%20%20%22fillRule%22%3A%20%22evenodd%22%2C%0A%20%20%22lineCap%22%3A%20%22round%22%2C%0A%20%20%22lineJoin%22%3A%20%22round%22%2C%0A%20%20%22opacity%22%3A%201.0%2C%0A%20%20%22radius%22%3A%205%2C%0A%20%20%22stroke%22%3A%20true%2C%0A%20%20%22weight%22%3A%203%0A%7D%0A%20%20%20%20%20%20%20%20%20%20%20%20%20%20%20%20%29.addTo%28map_f215772de0e1489aa1df9ffd12c76891%29%3B%0A%20%20%20%20%20%20%20%20%20%20%20%20%0A%20%20%20%20%0A%20%20%20%20%20%20%20%20%20%20%20%20var%20popup_25e0258dcdbd4fad9f7b58f8983c4426%20%3D%20L.popup%28%7BmaxWidth%3A%20%27300%27%7D%29%3B%0A%0A%20%20%20%20%20%20%20%20%20%20%20%20%0A%20%20%20%20%20%20%20%20%20%20%20%20%20%20%20%20var%20html_95e4c685202f41b1b3d55e9ce470f67d%20%3D%20%24%28%27%3Cdiv%20id%3D%22html_95e4c685202f41b1b3d55e9ce470f67d%22%20style%3D%22width%3A%20100.0%25%3B%20height%3A%20100.0%25%3B%22%3EChina%20Star%3C/div%3E%27%29%5B0%5D%3B%0A%20%20%20%20%20%20%20%20%20%20%20%20%20%20%20%20popup_25e0258dcdbd4fad9f7b58f8983c4426.setContent%28html_95e4c685202f41b1b3d55e9ce470f67d%29%3B%0A%20%20%20%20%20%20%20%20%20%20%20%20%0A%0A%20%20%20%20%20%20%20%20%20%20%20%20circle_marker_2c616268c6ed4478ae65f974d7338361.bindPopup%28popup_25e0258dcdbd4fad9f7b58f8983c4426%29%3B%0A%0A%20%20%20%20%20%20%20%20%20%20%20%20%0A%20%20%20%20%20%20%20%20%0A%20%20%20%20%0A%20%20%20%20%20%20%20%20%20%20%20%20var%20circle_marker_6ca2e256c437425a955aca900ae64cf3%20%3D%20L.circleMarker%28%0A%20%20%20%20%20%20%20%20%20%20%20%20%20%20%20%20%5B33.481879%2C-112.02988400000001%5D%2C%0A%20%20%20%20%20%20%20%20%20%20%20%20%20%20%20%20%7B%0A%20%20%22bubblingMouseEvents%22%3A%20true%2C%0A%20%20%22color%22%3A%20%22red%22%2C%0A%20%20%22dashArray%22%3A%20null%2C%0A%20%20%22dashOffset%22%3A%20null%2C%0A%20%20%22fill%22%3A%20true%2C%0A%20%20%22fillColor%22%3A%20%22%233186cc%22%2C%0A%20%20%22fillOpacity%22%3A%200.7%2C%0A%20%20%22fillRule%22%3A%20%22evenodd%22%2C%0A%20%20%22lineCap%22%3A%20%22round%22%2C%0A%20%20%22lineJoin%22%3A%20%22round%22%2C%0A%20%20%22opacity%22%3A%201.0%2C%0A%20%20%22radius%22%3A%205%2C%0A%20%20%22stroke%22%3A%20true%2C%0A%20%20%22weight%22%3A%203%0A%7D%0A%20%20%20%20%20%20%20%20%20%20%20%20%20%20%20%20%29.addTo%28map_f215772de0e1489aa1df9ffd12c76891%29%3B%0A%20%20%20%20%20%20%20%20%20%20%20%20%0A%20%20%20%20%0A%20%20%20%20%20%20%20%20%20%20%20%20var%20popup_83c5ecc32963453c91cee6c2a341ba62%20%3D%20L.popup%28%7BmaxWidth%3A%20%27300%27%7D%29%3B%0A%0A%20%20%20%20%20%20%20%20%20%20%20%20%0A%20%20%20%20%20%20%20%20%20%20%20%20%20%20%20%20var%20html_ba5f8c58fd3246d9a09712e96b7d6452%20%3D%20%24%28%27%3Cdiv%20id%3D%22html_ba5f8c58fd3246d9a09712e96b7d6452%22%20style%3D%22width%3A%20100.0%25%3B%20height%3A%20100.0%25%3B%22%3ENew%20China%20Super%20Buffet%3C/div%3E%27%29%5B0%5D%3B%0A%20%20%20%20%20%20%20%20%20%20%20%20%20%20%20%20popup_83c5ecc32963453c91cee6c2a341ba62.setContent%28html_ba5f8c58fd3246d9a09712e96b7d6452%29%3B%0A%20%20%20%20%20%20%20%20%20%20%20%20%0A%0A%20%20%20%20%20%20%20%20%20%20%20%20circle_marker_6ca2e256c437425a955aca900ae64cf3.bindPopup%28popup_83c5ecc32963453c91cee6c2a341ba62%29%3B%0A%0A%20%20%20%20%20%20%20%20%20%20%20%20%0A%20%20%20%20%20%20%20%20%0A%20%20%20%20%0A%20%20%20%20%20%20%20%20%20%20%20%20var%20circle_marker_36f0383780a44545a052827cf6bee602%20%3D%20L.circleMarker%28%0A%20%20%20%20%20%20%20%20%20%20%20%20%20%20%20%20%5B33.398832%2C-112.064353%5D%2C%0A%20%20%20%20%20%20%20%20%20%20%20%20%20%20%20%20%7B%0A%20%20%22bubblingMouseEvents%22%3A%20true%2C%0A%20%20%22color%22%3A%20%22red%22%2C%0A%20%20%22dashArray%22%3A%20null%2C%0A%20%20%22dashOffset%22%3A%20null%2C%0A%20%20%22fill%22%3A%20true%2C%0A%20%20%22fillColor%22%3A%20%22%233186cc%22%2C%0A%20%20%22fillOpacity%22%3A%200.7%2C%0A%20%20%22fillRule%22%3A%20%22evenodd%22%2C%0A%20%20%22lineCap%22%3A%20%22round%22%2C%0A%20%20%22lineJoin%22%3A%20%22round%22%2C%0A%20%20%22opacity%22%3A%201.0%2C%0A%20%20%22radius%22%3A%205%2C%0A%20%20%22stroke%22%3A%20true%2C%0A%20%20%22weight%22%3A%203%0A%7D%0A%20%20%20%20%20%20%20%20%20%20%20%20%20%20%20%20%29.addTo%28map_f215772de0e1489aa1df9ffd12c76891%29%3B%0A%20%20%20%20%20%20%20%20%20%20%20%20%0A%20%20%20%20%0A%20%20%20%20%20%20%20%20%20%20%20%20var%20popup_59240d5bff68439fa7b4b55f67cf975f%20%3D%20L.popup%28%7BmaxWidth%3A%20%27300%27%7D%29%3B%0A%0A%20%20%20%20%20%20%20%20%20%20%20%20%0A%20%20%20%20%20%20%20%20%20%20%20%20%20%20%20%20var%20html_f8e33508f5ca4d4fb40f10ef1da3ec64%20%3D%20%24%28%27%3Cdiv%20id%3D%22html_f8e33508f5ca4d4fb40f10ef1da3ec64%22%20style%3D%22width%3A%20100.0%25%3B%20height%3A%20100.0%25%3B%22%3EWongs%20Chinese%20Food%3C/div%3E%27%29%5B0%5D%3B%0A%20%20%20%20%20%20%20%20%20%20%20%20%20%20%20%20popup_59240d5bff68439fa7b4b55f67cf975f.setContent%28html_f8e33508f5ca4d4fb40f10ef1da3ec64%29%3B%0A%20%20%20%20%20%20%20%20%20%20%20%20%0A%0A%20%20%20%20%20%20%20%20%20%20%20%20circle_marker_36f0383780a44545a052827cf6bee602.bindPopup%28popup_59240d5bff68439fa7b4b55f67cf975f%29%3B%0A%0A%20%20%20%20%20%20%20%20%20%20%20%20%0A%20%20%20%20%20%20%20%20%0A%20%20%20%20%0A%20%20%20%20%20%20%20%20%20%20%20%20var%20circle_marker_4b361503ffc54b5bb96e7aa848dbaf76%20%3D%20L.circleMarker%28%0A%20%20%20%20%20%20%20%20%20%20%20%20%20%20%20%20%5B33.50276513136434%2C-112.08219860422271%5D%2C%0A%20%20%20%20%20%20%20%20%20%20%20%20%20%20%20%20%7B%0A%20%20%22bubblingMouseEvents%22%3A%20true%2C%0A%20%20%22color%22%3A%20%22red%22%2C%0A%20%20%22dashArray%22%3A%20null%2C%0A%20%20%22dashOffset%22%3A%20null%2C%0A%20%20%22fill%22%3A%20true%2C%0A%20%20%22fillColor%22%3A%20%22%233186cc%22%2C%0A%20%20%22fillOpacity%22%3A%200.7%2C%0A%20%20%22fillRule%22%3A%20%22evenodd%22%2C%0A%20%20%22lineCap%22%3A%20%22round%22%2C%0A%20%20%22lineJoin%22%3A%20%22round%22%2C%0A%20%20%22opacity%22%3A%201.0%2C%0A%20%20%22radius%22%3A%205%2C%0A%20%20%22stroke%22%3A%20true%2C%0A%20%20%22weight%22%3A%203%0A%7D%0A%20%20%20%20%20%20%20%20%20%20%20%20%20%20%20%20%29.addTo%28map_f215772de0e1489aa1df9ffd12c76891%29%3B%0A%20%20%20%20%20%20%20%20%20%20%20%20%0A%20%20%20%20%0A%20%20%20%20%20%20%20%20%20%20%20%20var%20popup_ee992ab2e8a54b1492878c18d9a2b0b0%20%3D%20L.popup%28%7BmaxWidth%3A%20%27300%27%7D%29%3B%0A%0A%20%20%20%20%20%20%20%20%20%20%20%20%0A%20%20%20%20%20%20%20%20%20%20%20%20%20%20%20%20var%20html_b2efe04b43f34bfcb56c8a86cae55623%20%3D%20%24%28%27%3Cdiv%20id%3D%22html_b2efe04b43f34bfcb56c8a86cae55623%22%20style%3D%22width%3A%20100.0%25%3B%20height%3A%20100.0%25%3B%22%3ESouth%20China%20BBQ%20HK%20Style%3C/div%3E%27%29%5B0%5D%3B%0A%20%20%20%20%20%20%20%20%20%20%20%20%20%20%20%20popup_ee992ab2e8a54b1492878c18d9a2b0b0.setContent%28html_b2efe04b43f34bfcb56c8a86cae55623%29%3B%0A%20%20%20%20%20%20%20%20%20%20%20%20%0A%0A%20%20%20%20%20%20%20%20%20%20%20%20circle_marker_4b361503ffc54b5bb96e7aa848dbaf76.bindPopup%28popup_ee992ab2e8a54b1492878c18d9a2b0b0%29%3B%0A%0A%20%20%20%20%20%20%20%20%20%20%20%20%0A%20%20%20%20%20%20%20%20%0A%20%20%20%20%0A%20%20%20%20%20%20%20%20%20%20%20%20var%20circle_marker_9afa3b35b14b497381400a5bf24bb9f9%20%3D%20L.circleMarker%28%0A%20%20%20%20%20%20%20%20%20%20%20%20%20%20%20%20%5B33.39250946044922%2C-112.0709457397461%5D%2C%0A%20%20%20%20%20%20%20%20%20%20%20%20%20%20%20%20%7B%0A%20%20%22bubblingMouseEvents%22%3A%20true%2C%0A%20%20%22color%22%3A%20%22red%22%2C%0A%20%20%22dashArray%22%3A%20null%2C%0A%20%20%22dashOffset%22%3A%20null%2C%0A%20%20%22fill%22%3A%20true%2C%0A%20%20%22fillColor%22%3A%20%22%233186cc%22%2C%0A%20%20%22fillOpacity%22%3A%200.7%2C%0A%20%20%22fillRule%22%3A%20%22evenodd%22%2C%0A%20%20%22lineCap%22%3A%20%22round%22%2C%0A%20%20%22lineJoin%22%3A%20%22round%22%2C%0A%20%20%22opacity%22%3A%201.0%2C%0A%20%20%22radius%22%3A%205%2C%0A%20%20%22stroke%22%3A%20true%2C%0A%20%20%22weight%22%3A%203%0A%7D%0A%20%20%20%20%20%20%20%20%20%20%20%20%20%20%20%20%29.addTo%28map_f215772de0e1489aa1df9ffd12c76891%29%3B%0A%20%20%20%20%20%20%20%20%20%20%20%20%0A%20%20%20%20%0A%20%20%20%20%20%20%20%20%20%20%20%20var%20popup_85e744eacbc04d45bd402978e2999634%20%3D%20L.popup%28%7BmaxWidth%3A%20%27300%27%7D%29%3B%0A%0A%20%20%20%20%20%20%20%20%20%20%20%20%0A%20%20%20%20%20%20%20%20%20%20%20%20%20%20%20%20var%20html_106a7162aff54577ae7b9cbc978869a0%20%3D%20%24%28%27%3Cdiv%20id%3D%22html_106a7162aff54577ae7b9cbc978869a0%22%20style%3D%22width%3A%20100.0%25%3B%20height%3A%20100.0%25%3B%22%3EKing%20Wah%3C/div%3E%27%29%5B0%5D%3B%0A%20%20%20%20%20%20%20%20%20%20%20%20%20%20%20%20popup_85e744eacbc04d45bd402978e2999634.setContent%28html_106a7162aff54577ae7b9cbc978869a0%29%3B%0A%20%20%20%20%20%20%20%20%20%20%20%20%0A%0A%20%20%20%20%20%20%20%20%20%20%20%20circle_marker_9afa3b35b14b497381400a5bf24bb9f9.bindPopup%28popup_85e744eacbc04d45bd402978e2999634%29%3B%0A%0A%20%20%20%20%20%20%20%20%20%20%20%20%0A%20%20%20%20%20%20%20%20%0A%20%20%20%20%0A%20%20%20%20%20%20%20%20%20%20%20%20var%20circle_marker_3a68eaa7a9ac4a78bce4865f850b232b%20%3D%20L.circleMarker%28%0A%20%20%20%20%20%20%20%20%20%20%20%20%20%20%20%20%5B33.391441345214844%2C-112.04911804199219%5D%2C%0A%20%20%20%20%20%20%20%20%20%20%20%20%20%20%20%20%7B%0A%20%20%22bubblingMouseEvents%22%3A%20true%2C%0A%20%20%22color%22%3A%20%22red%22%2C%0A%20%20%22dashArray%22%3A%20null%2C%0A%20%20%22dashOffset%22%3A%20null%2C%0A%20%20%22fill%22%3A%20true%2C%0A%20%20%22fillColor%22%3A%20%22%233186cc%22%2C%0A%20%20%22fillOpacity%22%3A%200.7%2C%0A%20%20%22fillRule%22%3A%20%22evenodd%22%2C%0A%20%20%22lineCap%22%3A%20%22round%22%2C%0A%20%20%22lineJoin%22%3A%20%22round%22%2C%0A%20%20%22opacity%22%3A%201.0%2C%0A%20%20%22radius%22%3A%205%2C%0A%20%20%22stroke%22%3A%20true%2C%0A%20%20%22weight%22%3A%203%0A%7D%0A%20%20%20%20%20%20%20%20%20%20%20%20%20%20%20%20%29.addTo%28map_f215772de0e1489aa1df9ffd12c76891%29%3B%0A%20%20%20%20%20%20%20%20%20%20%20%20%0A%20%20%20%20%0A%20%20%20%20%20%20%20%20%20%20%20%20var%20popup_cf14802b11f54a61b86f3bb3f850520f%20%3D%20L.popup%28%7BmaxWidth%3A%20%27300%27%7D%29%3B%0A%0A%20%20%20%20%20%20%20%20%20%20%20%20%0A%20%20%20%20%20%20%20%20%20%20%20%20%20%20%20%20var%20html_45ee3a11006a426fbea61c80b1818d61%20%3D%20%24%28%27%3Cdiv%20id%3D%22html_45ee3a11006a426fbea61c80b1818d61%22%20style%3D%22width%3A%20100.0%25%3B%20height%3A%20100.0%25%3B%22%3ENew%20China%20Restaurant%20%2816th%20St/Southern%29%3C/div%3E%27%29%5B0%5D%3B%0A%20%20%20%20%20%20%20%20%20%20%20%20%20%20%20%20popup_cf14802b11f54a61b86f3bb3f850520f.setContent%28html_45ee3a11006a426fbea61c80b1818d61%29%3B%0A%20%20%20%20%20%20%20%20%20%20%20%20%0A%0A%20%20%20%20%20%20%20%20%20%20%20%20circle_marker_3a68eaa7a9ac4a78bce4865f850b232b.bindPopup%28popup_cf14802b11f54a61b86f3bb3f850520f%29%3B%0A%0A%20%20%20%20%20%20%20%20%20%20%20%20%0A%20%20%20%20%20%20%20%20%0A%20%20%20%20%0A%20%20%20%20%20%20%20%20%20%20%20%20var%20heat_map_fc6bb7c76ede49939a09d2eeca8644c4%20%3D%20L.heatLayer%28%0A%20%20%20%20%20%20%20%20%20%20%20%20%20%20%20%20%5B%5B33.44568053769315%2C%20-112.0669919148652%5D%2C%20%5B33.436630125934%2C%20-112.05673011297367%5D%2C%20%5B33.48586836799868%2C%20-112.06903472542763%5D%2C%20%5B33.4807100002017%2C%20-112.09173677364059%5D%2C%20%5B33.43923672861721%2C%20-112.0735298712004%5D%2C%20%5B33.40704408256393%2C%20-112.04421566726634%5D%2C%20%5B33.49504128170082%2C%20-112.06132086071646%5D%2C%20%5B33.47907%2C%20-112.073306%5D%2C%20%5B33.48020911555612%2C%20-112.08261777656587%5D%2C%20%5B33.39174270629883%2C%20-112.08470153808594%5D%2C%20%5B33.480916%2C%20-112.130715%5D%2C%20%5B33.509861584349466%2C%20-112.06114123201033%5D%2C%20%5B33.495277404785156%2C%20-112.09228515625%5D%2C%20%5B33.495492%2C%20-112.092242%5D%2C%20%5B33.451025%2C%20-112.133544%5D%2C%20%5B33.481879%2C%20-112.02988400000001%5D%2C%20%5B33.398832%2C%20-112.064353%5D%2C%20%5B33.50276513136434%2C%20-112.08219860422271%5D%2C%20%5B33.39250946044922%2C%20-112.0709457397461%5D%2C%20%5B33.391441345214844%2C%20-112.04911804199219%5D%5D%2C%0A%20%20%20%20%20%20%20%20%20%20%20%20%20%20%20%20%7B%0A%20%20%20%20%20%20%20%20%20%20%20%20%20%20%20%20%20%20%20%20minOpacity%3A%200.5%2C%0A%20%20%20%20%20%20%20%20%20%20%20%20%20%20%20%20%20%20%20%20maxZoom%3A%2018%2C%0A%20%20%20%20%20%20%20%20%20%20%20%20%20%20%20%20%20%20%20%20max%3A%201.0%2C%0A%20%20%20%20%20%20%20%20%20%20%20%20%20%20%20%20%20%20%20%20radius%3A%2025%2C%0A%20%20%20%20%20%20%20%20%20%20%20%20%20%20%20%20%20%20%20%20blur%3A%2015%2C%0A%20%20%20%20%20%20%20%20%20%20%20%20%20%20%20%20%20%20%20%20gradient%3A%20null%0A%20%20%20%20%20%20%20%20%20%20%20%20%20%20%20%20%20%20%20%20%7D%29%0A%20%20%20%20%20%20%20%20%20%20%20%20%20%20%20%20.addTo%28map_f215772de0e1489aa1df9ffd12c76891%29%3B%0A%20%20%20%20%20%20%20%20%0A%3C/script%3E onload=\"this.contentDocument.open();this.contentDocument.write(    decodeURIComponent(this.getAttribute('data-html')));this.contentDocument.close();\" allowfullscreen webkitallowfullscreen mozallowfullscreen></iframe></div></div>"
      ],
      "text/plain": [
       "<folium.folium.Map at 0x26531a88d00>"
      ]
     },
     "execution_count": 142,
     "metadata": {},
     "output_type": "execute_result"
    }
   ],
   "source": [
    "map_Phoenix = folium.Map(location=[33.44838, -112.07404], zoom_start=12)\n",
    "\n",
    "def add_markers(df):\n",
    "    for (j, row) in df.iterrows():\n",
    "        label = folium.Popup(row[\"name\"], parse_html=True)\n",
    "        folium.CircleMarker(\n",
    "            [row[\"lat\"], row[\"lng\"]],\n",
    "            radius=5,\n",
    "            popup=label,\n",
    "            color='red',\n",
    "            fill=True,\n",
    "            fill_color='#3186cc',\n",
    "            fill_opacity=0.7,\n",
    "            parse_html=False).add_to(map_Phoenix)\n",
    "\n",
    "add_markers(df)\n",
    "hm_data = df[[\"lat\", \"lng\"]].to_numpy().tolist()\n",
    "map_Phoenix.add_child(plugins.HeatMap(hm_data))\n",
    "\n",
    "map_Phoenix"
   ]
  },
  {
   "cell_type": "markdown",
   "metadata": {},
   "source": [
    "#### Phoenix_map_1\n",
    "From the map above, we can see there are three main Chinese restaurants clusters in Phoenix. The one at the top of the map has the most customer distribution and the highest density of restaurants. Therefore, I think it is the best area for us to open a new restaurant. "
   ]
  },
  {
   "cell_type": "code",
   "execution_count": 139,
   "metadata": {},
   "outputs": [
    {
     "data": {
      "text/html": [
       "<div>\n",
       "<style scoped>\n",
       "    .dataframe tbody tr th:only-of-type {\n",
       "        vertical-align: middle;\n",
       "    }\n",
       "\n",
       "    .dataframe tbody tr th {\n",
       "        vertical-align: top;\n",
       "    }\n",
       "\n",
       "    .dataframe thead th {\n",
       "        text-align: right;\n",
       "    }\n",
       "</style>\n",
       "<table border=\"1\" class=\"dataframe\">\n",
       "  <thead>\n",
       "    <tr style=\"text-align: right;\">\n",
       "      <th></th>\n",
       "      <th>uid</th>\n",
       "      <th>name</th>\n",
       "      <th>shortname</th>\n",
       "      <th>address</th>\n",
       "      <th>postalcode</th>\n",
       "      <th>lat</th>\n",
       "      <th>lng</th>\n",
       "    </tr>\n",
       "  </thead>\n",
       "  <tbody>\n",
       "    <tr>\n",
       "      <th>0</th>\n",
       "      <td>51a4187a498e776dbdf0a798</td>\n",
       "      <td>Panda Express</td>\n",
       "      <td>Chinese</td>\n",
       "      <td></td>\n",
       "      <td>85004</td>\n",
       "      <td>33.445681</td>\n",
       "      <td>-112.066992</td>\n",
       "    </tr>\n",
       "    <tr>\n",
       "      <th>1</th>\n",
       "      <td>4bdb3ffb3904a593d077499e</td>\n",
       "      <td>Wong's Chinese Dining</td>\n",
       "      <td>Chinese</td>\n",
       "      <td></td>\n",
       "      <td>85034</td>\n",
       "      <td>33.436630</td>\n",
       "      <td>-112.056730</td>\n",
       "    </tr>\n",
       "    <tr>\n",
       "      <th>2</th>\n",
       "      <td>413ba880f964a520311b1fe3</td>\n",
       "      <td>China Chili</td>\n",
       "      <td>Chinese</td>\n",
       "      <td></td>\n",
       "      <td>85012</td>\n",
       "      <td>33.485868</td>\n",
       "      <td>-112.069035</td>\n",
       "    </tr>\n",
       "    <tr>\n",
       "      <th>3</th>\n",
       "      <td>4b58bbdaf964a520206828e3</td>\n",
       "      <td>Mu Shu</td>\n",
       "      <td>Chinese</td>\n",
       "      <td></td>\n",
       "      <td>85015</td>\n",
       "      <td>33.480710</td>\n",
       "      <td>-112.091737</td>\n",
       "    </tr>\n",
       "    <tr>\n",
       "      <th>4</th>\n",
       "      <td>5101ca8de4b02714c07746df</td>\n",
       "      <td>New Garden Chinese Central &amp; Hadley</td>\n",
       "      <td>Chinese</td>\n",
       "      <td></td>\n",
       "      <td>85041</td>\n",
       "      <td>33.439237</td>\n",
       "      <td>-112.073530</td>\n",
       "    </tr>\n",
       "    <tr>\n",
       "      <th>5</th>\n",
       "      <td>4dc1ab68b0fb1c18ee68f129</td>\n",
       "      <td>Tams Chinese And Mexican Food</td>\n",
       "      <td>Chinese</td>\n",
       "      <td></td>\n",
       "      <td>85040</td>\n",
       "      <td>33.407044</td>\n",
       "      <td>-112.044216</td>\n",
       "    </tr>\n",
       "    <tr>\n",
       "      <th>6</th>\n",
       "      <td>4e89be544901b86fc2a4ecd8</td>\n",
       "      <td>Panda Express</td>\n",
       "      <td>Chinese</td>\n",
       "      <td></td>\n",
       "      <td>85014</td>\n",
       "      <td>33.495041</td>\n",
       "      <td>-112.061321</td>\n",
       "    </tr>\n",
       "    <tr>\n",
       "      <th>7</th>\n",
       "      <td>59094803898bdc1a41d0bfe9</td>\n",
       "      <td>Siu Wok</td>\n",
       "      <td>Chinese</td>\n",
       "      <td></td>\n",
       "      <td>85004</td>\n",
       "      <td>33.479070</td>\n",
       "      <td>-112.073306</td>\n",
       "    </tr>\n",
       "    <tr>\n",
       "      <th>8</th>\n",
       "      <td>4b634324f964a5204f6e2ae3</td>\n",
       "      <td>Long Wong's</td>\n",
       "      <td>Chinese</td>\n",
       "      <td></td>\n",
       "      <td>85013</td>\n",
       "      <td>33.480209</td>\n",
       "      <td>-112.082618</td>\n",
       "    </tr>\n",
       "    <tr>\n",
       "      <th>9</th>\n",
       "      <td>5cda25a465211f002c28dccb</td>\n",
       "      <td>Panda Express</td>\n",
       "      <td>Chinese</td>\n",
       "      <td></td>\n",
       "      <td>85041</td>\n",
       "      <td>33.391743</td>\n",
       "      <td>-112.084702</td>\n",
       "    </tr>\n",
       "    <tr>\n",
       "      <th>10</th>\n",
       "      <td>4c16b1e074fb20a115845012</td>\n",
       "      <td>Shanghai Express</td>\n",
       "      <td>Chinese</td>\n",
       "      <td></td>\n",
       "      <td>85017</td>\n",
       "      <td>33.480916</td>\n",
       "      <td>-112.130715</td>\n",
       "    </tr>\n",
       "    <tr>\n",
       "      <th>11</th>\n",
       "      <td>4b33c0fcf964a520841e25e3</td>\n",
       "      <td>Tokyo Express</td>\n",
       "      <td>Chinese</td>\n",
       "      <td></td>\n",
       "      <td>85014</td>\n",
       "      <td>33.509862</td>\n",
       "      <td>-112.061141</td>\n",
       "    </tr>\n",
       "    <tr>\n",
       "      <th>12</th>\n",
       "      <td>4f32763c19836c91c7da20da</td>\n",
       "      <td>China City Restaurant</td>\n",
       "      <td>Chinese</td>\n",
       "      <td></td>\n",
       "      <td>85015</td>\n",
       "      <td>33.495277</td>\n",
       "      <td>-112.092285</td>\n",
       "    </tr>\n",
       "    <tr>\n",
       "      <th>13</th>\n",
       "      <td>4e68157d14952e0a132c2202</td>\n",
       "      <td>Lucky Kitchen</td>\n",
       "      <td>Chinese</td>\n",
       "      <td></td>\n",
       "      <td>85015</td>\n",
       "      <td>33.495492</td>\n",
       "      <td>-112.092242</td>\n",
       "    </tr>\n",
       "    <tr>\n",
       "      <th>14</th>\n",
       "      <td>4c3676c92c8020a168718700</td>\n",
       "      <td>China Star</td>\n",
       "      <td>Chinese</td>\n",
       "      <td></td>\n",
       "      <td>85009</td>\n",
       "      <td>33.451025</td>\n",
       "      <td>-112.133544</td>\n",
       "    </tr>\n",
       "    <tr>\n",
       "      <th>15</th>\n",
       "      <td>4c2128983389c9b605594ffb</td>\n",
       "      <td>New China Super Buffet</td>\n",
       "      <td>Chinese</td>\n",
       "      <td></td>\n",
       "      <td>85016</td>\n",
       "      <td>33.481879</td>\n",
       "      <td>-112.029884</td>\n",
       "    </tr>\n",
       "    <tr>\n",
       "      <th>16</th>\n",
       "      <td>4e02c1396284217c7f10bb01</td>\n",
       "      <td>Wongs Chinese Food</td>\n",
       "      <td>Chinese</td>\n",
       "      <td></td>\n",
       "      <td>85040</td>\n",
       "      <td>33.398832</td>\n",
       "      <td>-112.064353</td>\n",
       "    </tr>\n",
       "    <tr>\n",
       "      <th>17</th>\n",
       "      <td>4da6687cf7b192b4866cd6bf</td>\n",
       "      <td>South China BBQ HK Style</td>\n",
       "      <td>Chinese</td>\n",
       "      <td></td>\n",
       "      <td>85013</td>\n",
       "      <td>33.502765</td>\n",
       "      <td>-112.082199</td>\n",
       "    </tr>\n",
       "    <tr>\n",
       "      <th>18</th>\n",
       "      <td>4e7ba90ca809dd77188623ef</td>\n",
       "      <td>King Wah</td>\n",
       "      <td>Chinese</td>\n",
       "      <td></td>\n",
       "      <td>85040</td>\n",
       "      <td>33.392509</td>\n",
       "      <td>-112.070946</td>\n",
       "    </tr>\n",
       "    <tr>\n",
       "      <th>19</th>\n",
       "      <td>4ce6c802e1eeb60c70f498ae</td>\n",
       "      <td>New China Restaurant (16th St/Southern)</td>\n",
       "      <td>Chinese</td>\n",
       "      <td></td>\n",
       "      <td>85042</td>\n",
       "      <td>33.391441</td>\n",
       "      <td>-112.049118</td>\n",
       "    </tr>\n",
       "  </tbody>\n",
       "</table>\n",
       "</div>"
      ],
      "text/plain": [
       "                         uid                                     name  \\\n",
       "0   51a4187a498e776dbdf0a798                            Panda Express   \n",
       "1   4bdb3ffb3904a593d077499e                    Wong's Chinese Dining   \n",
       "2   413ba880f964a520311b1fe3                              China Chili   \n",
       "3   4b58bbdaf964a520206828e3                                   Mu Shu   \n",
       "4   5101ca8de4b02714c07746df      New Garden Chinese Central & Hadley   \n",
       "5   4dc1ab68b0fb1c18ee68f129            Tams Chinese And Mexican Food   \n",
       "6   4e89be544901b86fc2a4ecd8                            Panda Express   \n",
       "7   59094803898bdc1a41d0bfe9                                  Siu Wok   \n",
       "8   4b634324f964a5204f6e2ae3                              Long Wong's   \n",
       "9   5cda25a465211f002c28dccb                            Panda Express   \n",
       "10  4c16b1e074fb20a115845012                         Shanghai Express   \n",
       "11  4b33c0fcf964a520841e25e3                            Tokyo Express   \n",
       "12  4f32763c19836c91c7da20da                    China City Restaurant   \n",
       "13  4e68157d14952e0a132c2202                            Lucky Kitchen   \n",
       "14  4c3676c92c8020a168718700                               China Star   \n",
       "15  4c2128983389c9b605594ffb                   New China Super Buffet   \n",
       "16  4e02c1396284217c7f10bb01                       Wongs Chinese Food   \n",
       "17  4da6687cf7b192b4866cd6bf                 South China BBQ HK Style   \n",
       "18  4e7ba90ca809dd77188623ef                                 King Wah   \n",
       "19  4ce6c802e1eeb60c70f498ae  New China Restaurant (16th St/Southern)   \n",
       "\n",
       "   shortname address postalcode        lat         lng  \n",
       "0    Chinese              85004  33.445681 -112.066992  \n",
       "1    Chinese              85034  33.436630 -112.056730  \n",
       "2    Chinese              85012  33.485868 -112.069035  \n",
       "3    Chinese              85015  33.480710 -112.091737  \n",
       "4    Chinese              85041  33.439237 -112.073530  \n",
       "5    Chinese              85040  33.407044 -112.044216  \n",
       "6    Chinese              85014  33.495041 -112.061321  \n",
       "7    Chinese              85004  33.479070 -112.073306  \n",
       "8    Chinese              85013  33.480209 -112.082618  \n",
       "9    Chinese              85041  33.391743 -112.084702  \n",
       "10   Chinese              85017  33.480916 -112.130715  \n",
       "11   Chinese              85014  33.509862 -112.061141  \n",
       "12   Chinese              85015  33.495277 -112.092285  \n",
       "13   Chinese              85015  33.495492 -112.092242  \n",
       "14   Chinese              85009  33.451025 -112.133544  \n",
       "15   Chinese              85016  33.481879 -112.029884  \n",
       "16   Chinese              85040  33.398832 -112.064353  \n",
       "17   Chinese              85013  33.502765 -112.082199  \n",
       "18   Chinese              85040  33.392509 -112.070946  \n",
       "19   Chinese              85042  33.391441 -112.049118  "
      ]
     },
     "execution_count": 139,
     "metadata": {},
     "output_type": "execute_result"
    }
   ],
   "source": [
    "df"
   ]
  },
  {
   "cell_type": "markdown",
   "metadata": {},
   "source": [
    "### Finding the Location of Our Restaurant\n",
    "With coordinates that close to each other, we can treat the Earth as being locally flat and simply find the centroid as though they were planar coordinates. Then could simply take the average of the latitudes and the average of the longitudes to find the latitude and longitude of the centroid. Since there are only eight restaurants in the first cluster, I manually generated two lists contain the latitude and longtitude of those restaurants. And calculated the latitude and longtitude of their midpoint. "
   ]
  },
  {
   "cell_type": "code",
   "execution_count": 140,
   "metadata": {},
   "outputs": [
    {
     "name": "stdout",
     "output_type": "stream",
     "text": [
      "The location of the midpoint of the heat map is: 33.49112718514639 -112.07669974657294\n"
     ]
    }
   ],
   "source": [
    "lat = []\n",
    "long = []\n",
    "lat.append(float(df[df[\"name\"] == \"South China BBQ HK Style\"][\"lat\"]))\n",
    "lat.append(float(df[df[\"name\"] == \"Lucky Kitchen\"][\"lat\"]))\n",
    "lat.append(float(df[df[\"name\"] == \"Mu Shu\"][\"lat\"]))\n",
    "lat.append(float(df[df[\"name\"] == \"Siu Wok\"][\"lat\"]))\n",
    "lat.append(float(df[df[\"name\"] == \"China Chili\"][\"lat\"]))\n",
    "lat.append(float(df[df[\"name\"] == \"Tokyo Express\"][\"lat\"]))\n",
    "lat.append(float(df[df[\"name\"] == \"Long Wong's\"][\"lat\"]))\n",
    "lat.append(float(df[df[\"uid\"] == \"4e89be544901b86fc2a4ecd8\"][\"lat\"]))\n",
    "long.append(float(df[df[\"name\"] == \"South China BBQ HK Style\"][\"lng\"]))\n",
    "long.append(float(df[df[\"name\"] == \"Lucky Kitchen\"][\"lng\"]))\n",
    "long.append(float(df[df[\"name\"] == \"Mu Shu\"][\"lng\"]))\n",
    "long.append(float(df[df[\"name\"] == \"Siu Wok\"][\"lng\"]))\n",
    "long.append(float(df[df[\"name\"] == \"China Chili\"][\"lng\"]))\n",
    "long.append(float(df[df[\"name\"] == \"Tokyo Express\"][\"lng\"]))\n",
    "long.append(float(df[df[\"name\"] == \"Long Wong's\"][\"lng\"]))\n",
    "long.append(float(df[df[\"uid\"] == \"4e89be544901b86fc2a4ecd8\"][\"lng\"]))\n",
    "\n",
    "print(\"The location of the midpoint of the heat map is:\", sum(lat)/len(lat), sum(long)/len(long))"
   ]
  },
  {
   "cell_type": "markdown",
   "metadata": {},
   "source": [
    "#### Plot the location of our restaruant on map"
   ]
  },
  {
   "cell_type": "code",
   "execution_count": 141,
   "metadata": {},
   "outputs": [
    {
     "data": {
      "text/html": [
       "<div style=\"width:100%;\"><div style=\"position:relative;width:100%;height:0;padding-bottom:60%;\"><span style=\"color:#565656\">Make this Notebook Trusted to load map: File -> Trust Notebook</span><iframe src=\"about:blank\" style=\"position:absolute;width:100%;height:100%;left:0;top:0;border:none !important;\" data-html=%3C%21DOCTYPE%20html%3E%0A%3Chead%3E%20%20%20%20%0A%20%20%20%20%3Cmeta%20http-equiv%3D%22content-type%22%20content%3D%22text/html%3B%20charset%3DUTF-8%22%20/%3E%0A%20%20%20%20%3Cscript%3EL_PREFER_CANVAS%20%3D%20false%3B%20L_NO_TOUCH%20%3D%20false%3B%20L_DISABLE_3D%20%3D%20false%3B%3C/script%3E%0A%20%20%20%20%3Cscript%20src%3D%22https%3A//cdn.jsdelivr.net/npm/leaflet%401.2.0/dist/leaflet.js%22%3E%3C/script%3E%0A%20%20%20%20%3Cscript%20src%3D%22https%3A//ajax.googleapis.com/ajax/libs/jquery/1.11.1/jquery.min.js%22%3E%3C/script%3E%0A%20%20%20%20%3Cscript%20src%3D%22https%3A//maxcdn.bootstrapcdn.com/bootstrap/3.2.0/js/bootstrap.min.js%22%3E%3C/script%3E%0A%20%20%20%20%3Cscript%20src%3D%22https%3A//cdnjs.cloudflare.com/ajax/libs/Leaflet.awesome-markers/2.0.2/leaflet.awesome-markers.js%22%3E%3C/script%3E%0A%20%20%20%20%3Clink%20rel%3D%22stylesheet%22%20href%3D%22https%3A//cdn.jsdelivr.net/npm/leaflet%401.2.0/dist/leaflet.css%22/%3E%0A%20%20%20%20%3Clink%20rel%3D%22stylesheet%22%20href%3D%22https%3A//maxcdn.bootstrapcdn.com/bootstrap/3.2.0/css/bootstrap.min.css%22/%3E%0A%20%20%20%20%3Clink%20rel%3D%22stylesheet%22%20href%3D%22https%3A//maxcdn.bootstrapcdn.com/bootstrap/3.2.0/css/bootstrap-theme.min.css%22/%3E%0A%20%20%20%20%3Clink%20rel%3D%22stylesheet%22%20href%3D%22https%3A//maxcdn.bootstrapcdn.com/font-awesome/4.6.3/css/font-awesome.min.css%22/%3E%0A%20%20%20%20%3Clink%20rel%3D%22stylesheet%22%20href%3D%22https%3A//cdnjs.cloudflare.com/ajax/libs/Leaflet.awesome-markers/2.0.2/leaflet.awesome-markers.css%22/%3E%0A%20%20%20%20%3Clink%20rel%3D%22stylesheet%22%20href%3D%22https%3A//rawgit.com/python-visualization/folium/master/folium/templates/leaflet.awesome.rotate.css%22/%3E%0A%20%20%20%20%3Cstyle%3Ehtml%2C%20body%20%7Bwidth%3A%20100%25%3Bheight%3A%20100%25%3Bmargin%3A%200%3Bpadding%3A%200%3B%7D%3C/style%3E%0A%20%20%20%20%3Cstyle%3E%23map%20%7Bposition%3Aabsolute%3Btop%3A0%3Bbottom%3A0%3Bright%3A0%3Bleft%3A0%3B%7D%3C/style%3E%0A%20%20%20%20%0A%20%20%20%20%20%20%20%20%20%20%20%20%3Cstyle%3E%20%23map_89bfafe5c69444c0ba1976f10d17175b%20%7B%0A%20%20%20%20%20%20%20%20%20%20%20%20%20%20%20%20position%20%3A%20relative%3B%0A%20%20%20%20%20%20%20%20%20%20%20%20%20%20%20%20width%20%3A%20100.0%25%3B%0A%20%20%20%20%20%20%20%20%20%20%20%20%20%20%20%20height%3A%20100.0%25%3B%0A%20%20%20%20%20%20%20%20%20%20%20%20%20%20%20%20left%3A%200.0%25%3B%0A%20%20%20%20%20%20%20%20%20%20%20%20%20%20%20%20top%3A%200.0%25%3B%0A%20%20%20%20%20%20%20%20%20%20%20%20%20%20%20%20%7D%0A%20%20%20%20%20%20%20%20%20%20%20%20%3C/style%3E%0A%20%20%20%20%20%20%20%20%0A%3C/head%3E%0A%3Cbody%3E%20%20%20%20%0A%20%20%20%20%0A%20%20%20%20%20%20%20%20%20%20%20%20%3Cdiv%20class%3D%22folium-map%22%20id%3D%22map_89bfafe5c69444c0ba1976f10d17175b%22%20%3E%3C/div%3E%0A%20%20%20%20%20%20%20%20%0A%3C/body%3E%0A%3Cscript%3E%20%20%20%20%0A%20%20%20%20%0A%0A%20%20%20%20%20%20%20%20%20%20%20%20%0A%20%20%20%20%20%20%20%20%20%20%20%20%20%20%20%20var%20bounds%20%3D%20null%3B%0A%20%20%20%20%20%20%20%20%20%20%20%20%0A%0A%20%20%20%20%20%20%20%20%20%20%20%20var%20map_89bfafe5c69444c0ba1976f10d17175b%20%3D%20L.map%28%0A%20%20%20%20%20%20%20%20%20%20%20%20%20%20%20%20%20%20%20%20%20%20%20%20%20%20%20%20%20%20%20%20%20%20%27map_89bfafe5c69444c0ba1976f10d17175b%27%2C%0A%20%20%20%20%20%20%20%20%20%20%20%20%20%20%20%20%20%20%20%20%20%20%20%20%20%20%20%20%20%20%20%20%20%20%7Bcenter%3A%20%5B33.49112718514639%2C-112.07669974657294%5D%2C%0A%20%20%20%20%20%20%20%20%20%20%20%20%20%20%20%20%20%20%20%20%20%20%20%20%20%20%20%20%20%20%20%20%20%20zoom%3A%2013%2C%0A%20%20%20%20%20%20%20%20%20%20%20%20%20%20%20%20%20%20%20%20%20%20%20%20%20%20%20%20%20%20%20%20%20%20maxBounds%3A%20bounds%2C%0A%20%20%20%20%20%20%20%20%20%20%20%20%20%20%20%20%20%20%20%20%20%20%20%20%20%20%20%20%20%20%20%20%20%20layers%3A%20%5B%5D%2C%0A%20%20%20%20%20%20%20%20%20%20%20%20%20%20%20%20%20%20%20%20%20%20%20%20%20%20%20%20%20%20%20%20%20%20worldCopyJump%3A%20false%2C%0A%20%20%20%20%20%20%20%20%20%20%20%20%20%20%20%20%20%20%20%20%20%20%20%20%20%20%20%20%20%20%20%20%20%20crs%3A%20L.CRS.EPSG3857%0A%20%20%20%20%20%20%20%20%20%20%20%20%20%20%20%20%20%20%20%20%20%20%20%20%20%20%20%20%20%20%20%20%20%7D%29%3B%0A%20%20%20%20%20%20%20%20%20%20%20%20%0A%20%20%20%20%20%20%20%20%0A%20%20%20%20%0A%20%20%20%20%20%20%20%20%20%20%20%20var%20tile_layer_943b6d23c4c645489fb83190f85ed009%20%3D%20L.tileLayer%28%0A%20%20%20%20%20%20%20%20%20%20%20%20%20%20%20%20%27https%3A//%7Bs%7D.tile.openstreetmap.org/%7Bz%7D/%7Bx%7D/%7By%7D.png%27%2C%0A%20%20%20%20%20%20%20%20%20%20%20%20%20%20%20%20%7B%0A%20%20%22attribution%22%3A%20null%2C%0A%20%20%22detectRetina%22%3A%20false%2C%0A%20%20%22maxZoom%22%3A%2018%2C%0A%20%20%22minZoom%22%3A%201%2C%0A%20%20%22noWrap%22%3A%20false%2C%0A%20%20%22subdomains%22%3A%20%22abc%22%0A%7D%0A%20%20%20%20%20%20%20%20%20%20%20%20%20%20%20%20%29.addTo%28map_89bfafe5c69444c0ba1976f10d17175b%29%3B%0A%20%20%20%20%20%20%20%20%0A%20%20%20%20%0A%20%20%20%20%20%20%20%20%20%20%20%20var%20circle_marker_4d09976e8e0a4fabbe8def5fd11c162b%20%3D%20L.circleMarker%28%0A%20%20%20%20%20%20%20%20%20%20%20%20%20%20%20%20%5B33.44568053769315%2C-112.0669919148652%5D%2C%0A%20%20%20%20%20%20%20%20%20%20%20%20%20%20%20%20%7B%0A%20%20%22bubblingMouseEvents%22%3A%20true%2C%0A%20%20%22color%22%3A%20%22red%22%2C%0A%20%20%22dashArray%22%3A%20null%2C%0A%20%20%22dashOffset%22%3A%20null%2C%0A%20%20%22fill%22%3A%20true%2C%0A%20%20%22fillColor%22%3A%20%22%233186cc%22%2C%0A%20%20%22fillOpacity%22%3A%200.7%2C%0A%20%20%22fillRule%22%3A%20%22evenodd%22%2C%0A%20%20%22lineCap%22%3A%20%22round%22%2C%0A%20%20%22lineJoin%22%3A%20%22round%22%2C%0A%20%20%22opacity%22%3A%201.0%2C%0A%20%20%22radius%22%3A%205%2C%0A%20%20%22stroke%22%3A%20true%2C%0A%20%20%22weight%22%3A%203%0A%7D%0A%20%20%20%20%20%20%20%20%20%20%20%20%20%20%20%20%29.addTo%28map_89bfafe5c69444c0ba1976f10d17175b%29%3B%0A%20%20%20%20%20%20%20%20%20%20%20%20%0A%20%20%20%20%0A%20%20%20%20%20%20%20%20%20%20%20%20var%20popup_daee6b1a0d9644d69843ed0482658095%20%3D%20L.popup%28%7BmaxWidth%3A%20%27300%27%7D%29%3B%0A%0A%20%20%20%20%20%20%20%20%20%20%20%20%0A%20%20%20%20%20%20%20%20%20%20%20%20%20%20%20%20var%20html_aa4b0aba4a224af1896c77108bbbc53b%20%3D%20%24%28%27%3Cdiv%20id%3D%22html_aa4b0aba4a224af1896c77108bbbc53b%22%20style%3D%22width%3A%20100.0%25%3B%20height%3A%20100.0%25%3B%22%3EPanda%20Express%3C/div%3E%27%29%5B0%5D%3B%0A%20%20%20%20%20%20%20%20%20%20%20%20%20%20%20%20popup_daee6b1a0d9644d69843ed0482658095.setContent%28html_aa4b0aba4a224af1896c77108bbbc53b%29%3B%0A%20%20%20%20%20%20%20%20%20%20%20%20%0A%0A%20%20%20%20%20%20%20%20%20%20%20%20circle_marker_4d09976e8e0a4fabbe8def5fd11c162b.bindPopup%28popup_daee6b1a0d9644d69843ed0482658095%29%3B%0A%0A%20%20%20%20%20%20%20%20%20%20%20%20%0A%20%20%20%20%20%20%20%20%0A%20%20%20%20%0A%20%20%20%20%20%20%20%20%20%20%20%20var%20circle_marker_ff639c3c01d74c0b971c45c18ab8e006%20%3D%20L.circleMarker%28%0A%20%20%20%20%20%20%20%20%20%20%20%20%20%20%20%20%5B33.436630125934%2C-112.05673011297367%5D%2C%0A%20%20%20%20%20%20%20%20%20%20%20%20%20%20%20%20%7B%0A%20%20%22bubblingMouseEvents%22%3A%20true%2C%0A%20%20%22color%22%3A%20%22red%22%2C%0A%20%20%22dashArray%22%3A%20null%2C%0A%20%20%22dashOffset%22%3A%20null%2C%0A%20%20%22fill%22%3A%20true%2C%0A%20%20%22fillColor%22%3A%20%22%233186cc%22%2C%0A%20%20%22fillOpacity%22%3A%200.7%2C%0A%20%20%22fillRule%22%3A%20%22evenodd%22%2C%0A%20%20%22lineCap%22%3A%20%22round%22%2C%0A%20%20%22lineJoin%22%3A%20%22round%22%2C%0A%20%20%22opacity%22%3A%201.0%2C%0A%20%20%22radius%22%3A%205%2C%0A%20%20%22stroke%22%3A%20true%2C%0A%20%20%22weight%22%3A%203%0A%7D%0A%20%20%20%20%20%20%20%20%20%20%20%20%20%20%20%20%29.addTo%28map_89bfafe5c69444c0ba1976f10d17175b%29%3B%0A%20%20%20%20%20%20%20%20%20%20%20%20%0A%20%20%20%20%0A%20%20%20%20%20%20%20%20%20%20%20%20var%20popup_541824270d2e47b8be52c4b6af534d46%20%3D%20L.popup%28%7BmaxWidth%3A%20%27300%27%7D%29%3B%0A%0A%20%20%20%20%20%20%20%20%20%20%20%20%0A%20%20%20%20%20%20%20%20%20%20%20%20%20%20%20%20var%20html_0521ee8af6874a61971a92c7f848a52a%20%3D%20%24%28%27%3Cdiv%20id%3D%22html_0521ee8af6874a61971a92c7f848a52a%22%20style%3D%22width%3A%20100.0%25%3B%20height%3A%20100.0%25%3B%22%3EWong%26%2339%3Bs%20Chinese%20Dining%3C/div%3E%27%29%5B0%5D%3B%0A%20%20%20%20%20%20%20%20%20%20%20%20%20%20%20%20popup_541824270d2e47b8be52c4b6af534d46.setContent%28html_0521ee8af6874a61971a92c7f848a52a%29%3B%0A%20%20%20%20%20%20%20%20%20%20%20%20%0A%0A%20%20%20%20%20%20%20%20%20%20%20%20circle_marker_ff639c3c01d74c0b971c45c18ab8e006.bindPopup%28popup_541824270d2e47b8be52c4b6af534d46%29%3B%0A%0A%20%20%20%20%20%20%20%20%20%20%20%20%0A%20%20%20%20%20%20%20%20%0A%20%20%20%20%0A%20%20%20%20%20%20%20%20%20%20%20%20var%20circle_marker_3475939214e14dbda8c8ddecbf6dcaff%20%3D%20L.circleMarker%28%0A%20%20%20%20%20%20%20%20%20%20%20%20%20%20%20%20%5B33.48586836799868%2C-112.06903472542763%5D%2C%0A%20%20%20%20%20%20%20%20%20%20%20%20%20%20%20%20%7B%0A%20%20%22bubblingMouseEvents%22%3A%20true%2C%0A%20%20%22color%22%3A%20%22red%22%2C%0A%20%20%22dashArray%22%3A%20null%2C%0A%20%20%22dashOffset%22%3A%20null%2C%0A%20%20%22fill%22%3A%20true%2C%0A%20%20%22fillColor%22%3A%20%22%233186cc%22%2C%0A%20%20%22fillOpacity%22%3A%200.7%2C%0A%20%20%22fillRule%22%3A%20%22evenodd%22%2C%0A%20%20%22lineCap%22%3A%20%22round%22%2C%0A%20%20%22lineJoin%22%3A%20%22round%22%2C%0A%20%20%22opacity%22%3A%201.0%2C%0A%20%20%22radius%22%3A%205%2C%0A%20%20%22stroke%22%3A%20true%2C%0A%20%20%22weight%22%3A%203%0A%7D%0A%20%20%20%20%20%20%20%20%20%20%20%20%20%20%20%20%29.addTo%28map_89bfafe5c69444c0ba1976f10d17175b%29%3B%0A%20%20%20%20%20%20%20%20%20%20%20%20%0A%20%20%20%20%0A%20%20%20%20%20%20%20%20%20%20%20%20var%20popup_beb40fc73b344fc6bc26b0ca16be8b10%20%3D%20L.popup%28%7BmaxWidth%3A%20%27300%27%7D%29%3B%0A%0A%20%20%20%20%20%20%20%20%20%20%20%20%0A%20%20%20%20%20%20%20%20%20%20%20%20%20%20%20%20var%20html_b753677f95944f7cbd031226b5cbfbb5%20%3D%20%24%28%27%3Cdiv%20id%3D%22html_b753677f95944f7cbd031226b5cbfbb5%22%20style%3D%22width%3A%20100.0%25%3B%20height%3A%20100.0%25%3B%22%3EChina%20Chili%3C/div%3E%27%29%5B0%5D%3B%0A%20%20%20%20%20%20%20%20%20%20%20%20%20%20%20%20popup_beb40fc73b344fc6bc26b0ca16be8b10.setContent%28html_b753677f95944f7cbd031226b5cbfbb5%29%3B%0A%20%20%20%20%20%20%20%20%20%20%20%20%0A%0A%20%20%20%20%20%20%20%20%20%20%20%20circle_marker_3475939214e14dbda8c8ddecbf6dcaff.bindPopup%28popup_beb40fc73b344fc6bc26b0ca16be8b10%29%3B%0A%0A%20%20%20%20%20%20%20%20%20%20%20%20%0A%20%20%20%20%20%20%20%20%0A%20%20%20%20%0A%20%20%20%20%20%20%20%20%20%20%20%20var%20circle_marker_8074c8291a544ef286a5da294a888210%20%3D%20L.circleMarker%28%0A%20%20%20%20%20%20%20%20%20%20%20%20%20%20%20%20%5B33.4807100002017%2C-112.09173677364059%5D%2C%0A%20%20%20%20%20%20%20%20%20%20%20%20%20%20%20%20%7B%0A%20%20%22bubblingMouseEvents%22%3A%20true%2C%0A%20%20%22color%22%3A%20%22red%22%2C%0A%20%20%22dashArray%22%3A%20null%2C%0A%20%20%22dashOffset%22%3A%20null%2C%0A%20%20%22fill%22%3A%20true%2C%0A%20%20%22fillColor%22%3A%20%22%233186cc%22%2C%0A%20%20%22fillOpacity%22%3A%200.7%2C%0A%20%20%22fillRule%22%3A%20%22evenodd%22%2C%0A%20%20%22lineCap%22%3A%20%22round%22%2C%0A%20%20%22lineJoin%22%3A%20%22round%22%2C%0A%20%20%22opacity%22%3A%201.0%2C%0A%20%20%22radius%22%3A%205%2C%0A%20%20%22stroke%22%3A%20true%2C%0A%20%20%22weight%22%3A%203%0A%7D%0A%20%20%20%20%20%20%20%20%20%20%20%20%20%20%20%20%29.addTo%28map_89bfafe5c69444c0ba1976f10d17175b%29%3B%0A%20%20%20%20%20%20%20%20%20%20%20%20%0A%20%20%20%20%0A%20%20%20%20%20%20%20%20%20%20%20%20var%20popup_3f642d14cfac46d9a31c67f4fb8f805d%20%3D%20L.popup%28%7BmaxWidth%3A%20%27300%27%7D%29%3B%0A%0A%20%20%20%20%20%20%20%20%20%20%20%20%0A%20%20%20%20%20%20%20%20%20%20%20%20%20%20%20%20var%20html_120d1a69c95844129d27449eb83de86e%20%3D%20%24%28%27%3Cdiv%20id%3D%22html_120d1a69c95844129d27449eb83de86e%22%20style%3D%22width%3A%20100.0%25%3B%20height%3A%20100.0%25%3B%22%3EMu%20Shu%3C/div%3E%27%29%5B0%5D%3B%0A%20%20%20%20%20%20%20%20%20%20%20%20%20%20%20%20popup_3f642d14cfac46d9a31c67f4fb8f805d.setContent%28html_120d1a69c95844129d27449eb83de86e%29%3B%0A%20%20%20%20%20%20%20%20%20%20%20%20%0A%0A%20%20%20%20%20%20%20%20%20%20%20%20circle_marker_8074c8291a544ef286a5da294a888210.bindPopup%28popup_3f642d14cfac46d9a31c67f4fb8f805d%29%3B%0A%0A%20%20%20%20%20%20%20%20%20%20%20%20%0A%20%20%20%20%20%20%20%20%0A%20%20%20%20%0A%20%20%20%20%20%20%20%20%20%20%20%20var%20circle_marker_be014df0ea244a948205b7767a3271b2%20%3D%20L.circleMarker%28%0A%20%20%20%20%20%20%20%20%20%20%20%20%20%20%20%20%5B33.43923672861721%2C-112.0735298712004%5D%2C%0A%20%20%20%20%20%20%20%20%20%20%20%20%20%20%20%20%7B%0A%20%20%22bubblingMouseEvents%22%3A%20true%2C%0A%20%20%22color%22%3A%20%22red%22%2C%0A%20%20%22dashArray%22%3A%20null%2C%0A%20%20%22dashOffset%22%3A%20null%2C%0A%20%20%22fill%22%3A%20true%2C%0A%20%20%22fillColor%22%3A%20%22%233186cc%22%2C%0A%20%20%22fillOpacity%22%3A%200.7%2C%0A%20%20%22fillRule%22%3A%20%22evenodd%22%2C%0A%20%20%22lineCap%22%3A%20%22round%22%2C%0A%20%20%22lineJoin%22%3A%20%22round%22%2C%0A%20%20%22opacity%22%3A%201.0%2C%0A%20%20%22radius%22%3A%205%2C%0A%20%20%22stroke%22%3A%20true%2C%0A%20%20%22weight%22%3A%203%0A%7D%0A%20%20%20%20%20%20%20%20%20%20%20%20%20%20%20%20%29.addTo%28map_89bfafe5c69444c0ba1976f10d17175b%29%3B%0A%20%20%20%20%20%20%20%20%20%20%20%20%0A%20%20%20%20%0A%20%20%20%20%20%20%20%20%20%20%20%20var%20popup_37b8c8ee98f042518775a09c6150848c%20%3D%20L.popup%28%7BmaxWidth%3A%20%27300%27%7D%29%3B%0A%0A%20%20%20%20%20%20%20%20%20%20%20%20%0A%20%20%20%20%20%20%20%20%20%20%20%20%20%20%20%20var%20html_888402c3a9794cc7a98cdcc417f875a1%20%3D%20%24%28%27%3Cdiv%20id%3D%22html_888402c3a9794cc7a98cdcc417f875a1%22%20style%3D%22width%3A%20100.0%25%3B%20height%3A%20100.0%25%3B%22%3ENew%20Garden%20Chinese%20Central%20%26amp%3B%20Hadley%3C/div%3E%27%29%5B0%5D%3B%0A%20%20%20%20%20%20%20%20%20%20%20%20%20%20%20%20popup_37b8c8ee98f042518775a09c6150848c.setContent%28html_888402c3a9794cc7a98cdcc417f875a1%29%3B%0A%20%20%20%20%20%20%20%20%20%20%20%20%0A%0A%20%20%20%20%20%20%20%20%20%20%20%20circle_marker_be014df0ea244a948205b7767a3271b2.bindPopup%28popup_37b8c8ee98f042518775a09c6150848c%29%3B%0A%0A%20%20%20%20%20%20%20%20%20%20%20%20%0A%20%20%20%20%20%20%20%20%0A%20%20%20%20%0A%20%20%20%20%20%20%20%20%20%20%20%20var%20circle_marker_19b12f67646b4c6d8dcbb5d9c161d5b5%20%3D%20L.circleMarker%28%0A%20%20%20%20%20%20%20%20%20%20%20%20%20%20%20%20%5B33.40704408256393%2C-112.04421566726634%5D%2C%0A%20%20%20%20%20%20%20%20%20%20%20%20%20%20%20%20%7B%0A%20%20%22bubblingMouseEvents%22%3A%20true%2C%0A%20%20%22color%22%3A%20%22red%22%2C%0A%20%20%22dashArray%22%3A%20null%2C%0A%20%20%22dashOffset%22%3A%20null%2C%0A%20%20%22fill%22%3A%20true%2C%0A%20%20%22fillColor%22%3A%20%22%233186cc%22%2C%0A%20%20%22fillOpacity%22%3A%200.7%2C%0A%20%20%22fillRule%22%3A%20%22evenodd%22%2C%0A%20%20%22lineCap%22%3A%20%22round%22%2C%0A%20%20%22lineJoin%22%3A%20%22round%22%2C%0A%20%20%22opacity%22%3A%201.0%2C%0A%20%20%22radius%22%3A%205%2C%0A%20%20%22stroke%22%3A%20true%2C%0A%20%20%22weight%22%3A%203%0A%7D%0A%20%20%20%20%20%20%20%20%20%20%20%20%20%20%20%20%29.addTo%28map_89bfafe5c69444c0ba1976f10d17175b%29%3B%0A%20%20%20%20%20%20%20%20%20%20%20%20%0A%20%20%20%20%0A%20%20%20%20%20%20%20%20%20%20%20%20var%20popup_1488b6c3785c46bc8d31281b04e4a0f2%20%3D%20L.popup%28%7BmaxWidth%3A%20%27300%27%7D%29%3B%0A%0A%20%20%20%20%20%20%20%20%20%20%20%20%0A%20%20%20%20%20%20%20%20%20%20%20%20%20%20%20%20var%20html_114d08f7564244ffafc2ac79efa7b15e%20%3D%20%24%28%27%3Cdiv%20id%3D%22html_114d08f7564244ffafc2ac79efa7b15e%22%20style%3D%22width%3A%20100.0%25%3B%20height%3A%20100.0%25%3B%22%3ETams%20Chinese%20And%20Mexican%20Food%3C/div%3E%27%29%5B0%5D%3B%0A%20%20%20%20%20%20%20%20%20%20%20%20%20%20%20%20popup_1488b6c3785c46bc8d31281b04e4a0f2.setContent%28html_114d08f7564244ffafc2ac79efa7b15e%29%3B%0A%20%20%20%20%20%20%20%20%20%20%20%20%0A%0A%20%20%20%20%20%20%20%20%20%20%20%20circle_marker_19b12f67646b4c6d8dcbb5d9c161d5b5.bindPopup%28popup_1488b6c3785c46bc8d31281b04e4a0f2%29%3B%0A%0A%20%20%20%20%20%20%20%20%20%20%20%20%0A%20%20%20%20%20%20%20%20%0A%20%20%20%20%0A%20%20%20%20%20%20%20%20%20%20%20%20var%20circle_marker_fa7954c834ed4a3da8902dfe4a66151a%20%3D%20L.circleMarker%28%0A%20%20%20%20%20%20%20%20%20%20%20%20%20%20%20%20%5B33.49504128170082%2C-112.06132086071646%5D%2C%0A%20%20%20%20%20%20%20%20%20%20%20%20%20%20%20%20%7B%0A%20%20%22bubblingMouseEvents%22%3A%20true%2C%0A%20%20%22color%22%3A%20%22red%22%2C%0A%20%20%22dashArray%22%3A%20null%2C%0A%20%20%22dashOffset%22%3A%20null%2C%0A%20%20%22fill%22%3A%20true%2C%0A%20%20%22fillColor%22%3A%20%22%233186cc%22%2C%0A%20%20%22fillOpacity%22%3A%200.7%2C%0A%20%20%22fillRule%22%3A%20%22evenodd%22%2C%0A%20%20%22lineCap%22%3A%20%22round%22%2C%0A%20%20%22lineJoin%22%3A%20%22round%22%2C%0A%20%20%22opacity%22%3A%201.0%2C%0A%20%20%22radius%22%3A%205%2C%0A%20%20%22stroke%22%3A%20true%2C%0A%20%20%22weight%22%3A%203%0A%7D%0A%20%20%20%20%20%20%20%20%20%20%20%20%20%20%20%20%29.addTo%28map_89bfafe5c69444c0ba1976f10d17175b%29%3B%0A%20%20%20%20%20%20%20%20%20%20%20%20%0A%20%20%20%20%0A%20%20%20%20%20%20%20%20%20%20%20%20var%20popup_16212e1755294658b65f9f0636de09ef%20%3D%20L.popup%28%7BmaxWidth%3A%20%27300%27%7D%29%3B%0A%0A%20%20%20%20%20%20%20%20%20%20%20%20%0A%20%20%20%20%20%20%20%20%20%20%20%20%20%20%20%20var%20html_210b96deca3b4728a7cc8be24a72d0a2%20%3D%20%24%28%27%3Cdiv%20id%3D%22html_210b96deca3b4728a7cc8be24a72d0a2%22%20style%3D%22width%3A%20100.0%25%3B%20height%3A%20100.0%25%3B%22%3EPanda%20Express%3C/div%3E%27%29%5B0%5D%3B%0A%20%20%20%20%20%20%20%20%20%20%20%20%20%20%20%20popup_16212e1755294658b65f9f0636de09ef.setContent%28html_210b96deca3b4728a7cc8be24a72d0a2%29%3B%0A%20%20%20%20%20%20%20%20%20%20%20%20%0A%0A%20%20%20%20%20%20%20%20%20%20%20%20circle_marker_fa7954c834ed4a3da8902dfe4a66151a.bindPopup%28popup_16212e1755294658b65f9f0636de09ef%29%3B%0A%0A%20%20%20%20%20%20%20%20%20%20%20%20%0A%20%20%20%20%20%20%20%20%0A%20%20%20%20%0A%20%20%20%20%20%20%20%20%20%20%20%20var%20circle_marker_7794b143c20f4afca29460fee0d65ba4%20%3D%20L.circleMarker%28%0A%20%20%20%20%20%20%20%20%20%20%20%20%20%20%20%20%5B33.47907%2C-112.073306%5D%2C%0A%20%20%20%20%20%20%20%20%20%20%20%20%20%20%20%20%7B%0A%20%20%22bubblingMouseEvents%22%3A%20true%2C%0A%20%20%22color%22%3A%20%22red%22%2C%0A%20%20%22dashArray%22%3A%20null%2C%0A%20%20%22dashOffset%22%3A%20null%2C%0A%20%20%22fill%22%3A%20true%2C%0A%20%20%22fillColor%22%3A%20%22%233186cc%22%2C%0A%20%20%22fillOpacity%22%3A%200.7%2C%0A%20%20%22fillRule%22%3A%20%22evenodd%22%2C%0A%20%20%22lineCap%22%3A%20%22round%22%2C%0A%20%20%22lineJoin%22%3A%20%22round%22%2C%0A%20%20%22opacity%22%3A%201.0%2C%0A%20%20%22radius%22%3A%205%2C%0A%20%20%22stroke%22%3A%20true%2C%0A%20%20%22weight%22%3A%203%0A%7D%0A%20%20%20%20%20%20%20%20%20%20%20%20%20%20%20%20%29.addTo%28map_89bfafe5c69444c0ba1976f10d17175b%29%3B%0A%20%20%20%20%20%20%20%20%20%20%20%20%0A%20%20%20%20%0A%20%20%20%20%20%20%20%20%20%20%20%20var%20popup_7661c9a841e945e193810368993dd6c7%20%3D%20L.popup%28%7BmaxWidth%3A%20%27300%27%7D%29%3B%0A%0A%20%20%20%20%20%20%20%20%20%20%20%20%0A%20%20%20%20%20%20%20%20%20%20%20%20%20%20%20%20var%20html_524ebcbd06684716a53b39a5b6fc95c3%20%3D%20%24%28%27%3Cdiv%20id%3D%22html_524ebcbd06684716a53b39a5b6fc95c3%22%20style%3D%22width%3A%20100.0%25%3B%20height%3A%20100.0%25%3B%22%3ESiu%20Wok%3C/div%3E%27%29%5B0%5D%3B%0A%20%20%20%20%20%20%20%20%20%20%20%20%20%20%20%20popup_7661c9a841e945e193810368993dd6c7.setContent%28html_524ebcbd06684716a53b39a5b6fc95c3%29%3B%0A%20%20%20%20%20%20%20%20%20%20%20%20%0A%0A%20%20%20%20%20%20%20%20%20%20%20%20circle_marker_7794b143c20f4afca29460fee0d65ba4.bindPopup%28popup_7661c9a841e945e193810368993dd6c7%29%3B%0A%0A%20%20%20%20%20%20%20%20%20%20%20%20%0A%20%20%20%20%20%20%20%20%0A%20%20%20%20%0A%20%20%20%20%20%20%20%20%20%20%20%20var%20circle_marker_ebfe9042f78748678872453ba5ad184b%20%3D%20L.circleMarker%28%0A%20%20%20%20%20%20%20%20%20%20%20%20%20%20%20%20%5B33.48020911555612%2C-112.08261777656587%5D%2C%0A%20%20%20%20%20%20%20%20%20%20%20%20%20%20%20%20%7B%0A%20%20%22bubblingMouseEvents%22%3A%20true%2C%0A%20%20%22color%22%3A%20%22red%22%2C%0A%20%20%22dashArray%22%3A%20null%2C%0A%20%20%22dashOffset%22%3A%20null%2C%0A%20%20%22fill%22%3A%20true%2C%0A%20%20%22fillColor%22%3A%20%22%233186cc%22%2C%0A%20%20%22fillOpacity%22%3A%200.7%2C%0A%20%20%22fillRule%22%3A%20%22evenodd%22%2C%0A%20%20%22lineCap%22%3A%20%22round%22%2C%0A%20%20%22lineJoin%22%3A%20%22round%22%2C%0A%20%20%22opacity%22%3A%201.0%2C%0A%20%20%22radius%22%3A%205%2C%0A%20%20%22stroke%22%3A%20true%2C%0A%20%20%22weight%22%3A%203%0A%7D%0A%20%20%20%20%20%20%20%20%20%20%20%20%20%20%20%20%29.addTo%28map_89bfafe5c69444c0ba1976f10d17175b%29%3B%0A%20%20%20%20%20%20%20%20%20%20%20%20%0A%20%20%20%20%0A%20%20%20%20%20%20%20%20%20%20%20%20var%20popup_33af8f8e85d14e1580d6e832f6acc1cc%20%3D%20L.popup%28%7BmaxWidth%3A%20%27300%27%7D%29%3B%0A%0A%20%20%20%20%20%20%20%20%20%20%20%20%0A%20%20%20%20%20%20%20%20%20%20%20%20%20%20%20%20var%20html_e70480bf7ee546cbab97c1a76f9ad9b4%20%3D%20%24%28%27%3Cdiv%20id%3D%22html_e70480bf7ee546cbab97c1a76f9ad9b4%22%20style%3D%22width%3A%20100.0%25%3B%20height%3A%20100.0%25%3B%22%3ELong%20Wong%26%2339%3Bs%3C/div%3E%27%29%5B0%5D%3B%0A%20%20%20%20%20%20%20%20%20%20%20%20%20%20%20%20popup_33af8f8e85d14e1580d6e832f6acc1cc.setContent%28html_e70480bf7ee546cbab97c1a76f9ad9b4%29%3B%0A%20%20%20%20%20%20%20%20%20%20%20%20%0A%0A%20%20%20%20%20%20%20%20%20%20%20%20circle_marker_ebfe9042f78748678872453ba5ad184b.bindPopup%28popup_33af8f8e85d14e1580d6e832f6acc1cc%29%3B%0A%0A%20%20%20%20%20%20%20%20%20%20%20%20%0A%20%20%20%20%20%20%20%20%0A%20%20%20%20%0A%20%20%20%20%20%20%20%20%20%20%20%20var%20circle_marker_ed970b75ec7c4d22a1f55814928fae7a%20%3D%20L.circleMarker%28%0A%20%20%20%20%20%20%20%20%20%20%20%20%20%20%20%20%5B33.39174270629883%2C-112.08470153808594%5D%2C%0A%20%20%20%20%20%20%20%20%20%20%20%20%20%20%20%20%7B%0A%20%20%22bubblingMouseEvents%22%3A%20true%2C%0A%20%20%22color%22%3A%20%22red%22%2C%0A%20%20%22dashArray%22%3A%20null%2C%0A%20%20%22dashOffset%22%3A%20null%2C%0A%20%20%22fill%22%3A%20true%2C%0A%20%20%22fillColor%22%3A%20%22%233186cc%22%2C%0A%20%20%22fillOpacity%22%3A%200.7%2C%0A%20%20%22fillRule%22%3A%20%22evenodd%22%2C%0A%20%20%22lineCap%22%3A%20%22round%22%2C%0A%20%20%22lineJoin%22%3A%20%22round%22%2C%0A%20%20%22opacity%22%3A%201.0%2C%0A%20%20%22radius%22%3A%205%2C%0A%20%20%22stroke%22%3A%20true%2C%0A%20%20%22weight%22%3A%203%0A%7D%0A%20%20%20%20%20%20%20%20%20%20%20%20%20%20%20%20%29.addTo%28map_89bfafe5c69444c0ba1976f10d17175b%29%3B%0A%20%20%20%20%20%20%20%20%20%20%20%20%0A%20%20%20%20%0A%20%20%20%20%20%20%20%20%20%20%20%20var%20popup_64d188ca4aed4402a2a78d34ff343d43%20%3D%20L.popup%28%7BmaxWidth%3A%20%27300%27%7D%29%3B%0A%0A%20%20%20%20%20%20%20%20%20%20%20%20%0A%20%20%20%20%20%20%20%20%20%20%20%20%20%20%20%20var%20html_14f4fa5550a54cebafb8e7e88b049c3a%20%3D%20%24%28%27%3Cdiv%20id%3D%22html_14f4fa5550a54cebafb8e7e88b049c3a%22%20style%3D%22width%3A%20100.0%25%3B%20height%3A%20100.0%25%3B%22%3EPanda%20Express%3C/div%3E%27%29%5B0%5D%3B%0A%20%20%20%20%20%20%20%20%20%20%20%20%20%20%20%20popup_64d188ca4aed4402a2a78d34ff343d43.setContent%28html_14f4fa5550a54cebafb8e7e88b049c3a%29%3B%0A%20%20%20%20%20%20%20%20%20%20%20%20%0A%0A%20%20%20%20%20%20%20%20%20%20%20%20circle_marker_ed970b75ec7c4d22a1f55814928fae7a.bindPopup%28popup_64d188ca4aed4402a2a78d34ff343d43%29%3B%0A%0A%20%20%20%20%20%20%20%20%20%20%20%20%0A%20%20%20%20%20%20%20%20%0A%20%20%20%20%0A%20%20%20%20%20%20%20%20%20%20%20%20var%20circle_marker_59b81f20f9e145099e1c8fc74116cc54%20%3D%20L.circleMarker%28%0A%20%20%20%20%20%20%20%20%20%20%20%20%20%20%20%20%5B33.480916%2C-112.130715%5D%2C%0A%20%20%20%20%20%20%20%20%20%20%20%20%20%20%20%20%7B%0A%20%20%22bubblingMouseEvents%22%3A%20true%2C%0A%20%20%22color%22%3A%20%22red%22%2C%0A%20%20%22dashArray%22%3A%20null%2C%0A%20%20%22dashOffset%22%3A%20null%2C%0A%20%20%22fill%22%3A%20true%2C%0A%20%20%22fillColor%22%3A%20%22%233186cc%22%2C%0A%20%20%22fillOpacity%22%3A%200.7%2C%0A%20%20%22fillRule%22%3A%20%22evenodd%22%2C%0A%20%20%22lineCap%22%3A%20%22round%22%2C%0A%20%20%22lineJoin%22%3A%20%22round%22%2C%0A%20%20%22opacity%22%3A%201.0%2C%0A%20%20%22radius%22%3A%205%2C%0A%20%20%22stroke%22%3A%20true%2C%0A%20%20%22weight%22%3A%203%0A%7D%0A%20%20%20%20%20%20%20%20%20%20%20%20%20%20%20%20%29.addTo%28map_89bfafe5c69444c0ba1976f10d17175b%29%3B%0A%20%20%20%20%20%20%20%20%20%20%20%20%0A%20%20%20%20%0A%20%20%20%20%20%20%20%20%20%20%20%20var%20popup_d385f019501e4625a75ff0e6f739bdc7%20%3D%20L.popup%28%7BmaxWidth%3A%20%27300%27%7D%29%3B%0A%0A%20%20%20%20%20%20%20%20%20%20%20%20%0A%20%20%20%20%20%20%20%20%20%20%20%20%20%20%20%20var%20html_987c39ad79834501a4acc8f54c845151%20%3D%20%24%28%27%3Cdiv%20id%3D%22html_987c39ad79834501a4acc8f54c845151%22%20style%3D%22width%3A%20100.0%25%3B%20height%3A%20100.0%25%3B%22%3EShanghai%20Express%3C/div%3E%27%29%5B0%5D%3B%0A%20%20%20%20%20%20%20%20%20%20%20%20%20%20%20%20popup_d385f019501e4625a75ff0e6f739bdc7.setContent%28html_987c39ad79834501a4acc8f54c845151%29%3B%0A%20%20%20%20%20%20%20%20%20%20%20%20%0A%0A%20%20%20%20%20%20%20%20%20%20%20%20circle_marker_59b81f20f9e145099e1c8fc74116cc54.bindPopup%28popup_d385f019501e4625a75ff0e6f739bdc7%29%3B%0A%0A%20%20%20%20%20%20%20%20%20%20%20%20%0A%20%20%20%20%20%20%20%20%0A%20%20%20%20%0A%20%20%20%20%20%20%20%20%20%20%20%20var%20circle_marker_46cbdaa6280c413b9305583e2a394f33%20%3D%20L.circleMarker%28%0A%20%20%20%20%20%20%20%20%20%20%20%20%20%20%20%20%5B33.509861584349466%2C-112.06114123201033%5D%2C%0A%20%20%20%20%20%20%20%20%20%20%20%20%20%20%20%20%7B%0A%20%20%22bubblingMouseEvents%22%3A%20true%2C%0A%20%20%22color%22%3A%20%22red%22%2C%0A%20%20%22dashArray%22%3A%20null%2C%0A%20%20%22dashOffset%22%3A%20null%2C%0A%20%20%22fill%22%3A%20true%2C%0A%20%20%22fillColor%22%3A%20%22%233186cc%22%2C%0A%20%20%22fillOpacity%22%3A%200.7%2C%0A%20%20%22fillRule%22%3A%20%22evenodd%22%2C%0A%20%20%22lineCap%22%3A%20%22round%22%2C%0A%20%20%22lineJoin%22%3A%20%22round%22%2C%0A%20%20%22opacity%22%3A%201.0%2C%0A%20%20%22radius%22%3A%205%2C%0A%20%20%22stroke%22%3A%20true%2C%0A%20%20%22weight%22%3A%203%0A%7D%0A%20%20%20%20%20%20%20%20%20%20%20%20%20%20%20%20%29.addTo%28map_89bfafe5c69444c0ba1976f10d17175b%29%3B%0A%20%20%20%20%20%20%20%20%20%20%20%20%0A%20%20%20%20%0A%20%20%20%20%20%20%20%20%20%20%20%20var%20popup_78ee9b60c13247b0bcedf1f6253b255d%20%3D%20L.popup%28%7BmaxWidth%3A%20%27300%27%7D%29%3B%0A%0A%20%20%20%20%20%20%20%20%20%20%20%20%0A%20%20%20%20%20%20%20%20%20%20%20%20%20%20%20%20var%20html_486481688812422d93e476b147dde8af%20%3D%20%24%28%27%3Cdiv%20id%3D%22html_486481688812422d93e476b147dde8af%22%20style%3D%22width%3A%20100.0%25%3B%20height%3A%20100.0%25%3B%22%3ETokyo%20Express%3C/div%3E%27%29%5B0%5D%3B%0A%20%20%20%20%20%20%20%20%20%20%20%20%20%20%20%20popup_78ee9b60c13247b0bcedf1f6253b255d.setContent%28html_486481688812422d93e476b147dde8af%29%3B%0A%20%20%20%20%20%20%20%20%20%20%20%20%0A%0A%20%20%20%20%20%20%20%20%20%20%20%20circle_marker_46cbdaa6280c413b9305583e2a394f33.bindPopup%28popup_78ee9b60c13247b0bcedf1f6253b255d%29%3B%0A%0A%20%20%20%20%20%20%20%20%20%20%20%20%0A%20%20%20%20%20%20%20%20%0A%20%20%20%20%0A%20%20%20%20%20%20%20%20%20%20%20%20var%20circle_marker_f1c6cf10a0084fbfae31cdf8651411a0%20%3D%20L.circleMarker%28%0A%20%20%20%20%20%20%20%20%20%20%20%20%20%20%20%20%5B33.495277404785156%2C-112.09228515625%5D%2C%0A%20%20%20%20%20%20%20%20%20%20%20%20%20%20%20%20%7B%0A%20%20%22bubblingMouseEvents%22%3A%20true%2C%0A%20%20%22color%22%3A%20%22red%22%2C%0A%20%20%22dashArray%22%3A%20null%2C%0A%20%20%22dashOffset%22%3A%20null%2C%0A%20%20%22fill%22%3A%20true%2C%0A%20%20%22fillColor%22%3A%20%22%233186cc%22%2C%0A%20%20%22fillOpacity%22%3A%200.7%2C%0A%20%20%22fillRule%22%3A%20%22evenodd%22%2C%0A%20%20%22lineCap%22%3A%20%22round%22%2C%0A%20%20%22lineJoin%22%3A%20%22round%22%2C%0A%20%20%22opacity%22%3A%201.0%2C%0A%20%20%22radius%22%3A%205%2C%0A%20%20%22stroke%22%3A%20true%2C%0A%20%20%22weight%22%3A%203%0A%7D%0A%20%20%20%20%20%20%20%20%20%20%20%20%20%20%20%20%29.addTo%28map_89bfafe5c69444c0ba1976f10d17175b%29%3B%0A%20%20%20%20%20%20%20%20%20%20%20%20%0A%20%20%20%20%0A%20%20%20%20%20%20%20%20%20%20%20%20var%20popup_f955749c2a934cdc8b0c1e1fd4391e3b%20%3D%20L.popup%28%7BmaxWidth%3A%20%27300%27%7D%29%3B%0A%0A%20%20%20%20%20%20%20%20%20%20%20%20%0A%20%20%20%20%20%20%20%20%20%20%20%20%20%20%20%20var%20html_227b1848666b4ab7887892246b38adfa%20%3D%20%24%28%27%3Cdiv%20id%3D%22html_227b1848666b4ab7887892246b38adfa%22%20style%3D%22width%3A%20100.0%25%3B%20height%3A%20100.0%25%3B%22%3EChina%20City%20Restaurant%3C/div%3E%27%29%5B0%5D%3B%0A%20%20%20%20%20%20%20%20%20%20%20%20%20%20%20%20popup_f955749c2a934cdc8b0c1e1fd4391e3b.setContent%28html_227b1848666b4ab7887892246b38adfa%29%3B%0A%20%20%20%20%20%20%20%20%20%20%20%20%0A%0A%20%20%20%20%20%20%20%20%20%20%20%20circle_marker_f1c6cf10a0084fbfae31cdf8651411a0.bindPopup%28popup_f955749c2a934cdc8b0c1e1fd4391e3b%29%3B%0A%0A%20%20%20%20%20%20%20%20%20%20%20%20%0A%20%20%20%20%20%20%20%20%0A%20%20%20%20%0A%20%20%20%20%20%20%20%20%20%20%20%20var%20circle_marker_50667ff7c5b8432584e21d2f4e56cb0f%20%3D%20L.circleMarker%28%0A%20%20%20%20%20%20%20%20%20%20%20%20%20%20%20%20%5B33.495492%2C-112.092242%5D%2C%0A%20%20%20%20%20%20%20%20%20%20%20%20%20%20%20%20%7B%0A%20%20%22bubblingMouseEvents%22%3A%20true%2C%0A%20%20%22color%22%3A%20%22red%22%2C%0A%20%20%22dashArray%22%3A%20null%2C%0A%20%20%22dashOffset%22%3A%20null%2C%0A%20%20%22fill%22%3A%20true%2C%0A%20%20%22fillColor%22%3A%20%22%233186cc%22%2C%0A%20%20%22fillOpacity%22%3A%200.7%2C%0A%20%20%22fillRule%22%3A%20%22evenodd%22%2C%0A%20%20%22lineCap%22%3A%20%22round%22%2C%0A%20%20%22lineJoin%22%3A%20%22round%22%2C%0A%20%20%22opacity%22%3A%201.0%2C%0A%20%20%22radius%22%3A%205%2C%0A%20%20%22stroke%22%3A%20true%2C%0A%20%20%22weight%22%3A%203%0A%7D%0A%20%20%20%20%20%20%20%20%20%20%20%20%20%20%20%20%29.addTo%28map_89bfafe5c69444c0ba1976f10d17175b%29%3B%0A%20%20%20%20%20%20%20%20%20%20%20%20%0A%20%20%20%20%0A%20%20%20%20%20%20%20%20%20%20%20%20var%20popup_a5fb84c3375d459095b53dcdf6e9fa85%20%3D%20L.popup%28%7BmaxWidth%3A%20%27300%27%7D%29%3B%0A%0A%20%20%20%20%20%20%20%20%20%20%20%20%0A%20%20%20%20%20%20%20%20%20%20%20%20%20%20%20%20var%20html_fb1b279e29724e3abbc4f87c72d6d4e5%20%3D%20%24%28%27%3Cdiv%20id%3D%22html_fb1b279e29724e3abbc4f87c72d6d4e5%22%20style%3D%22width%3A%20100.0%25%3B%20height%3A%20100.0%25%3B%22%3ELucky%20Kitchen%3C/div%3E%27%29%5B0%5D%3B%0A%20%20%20%20%20%20%20%20%20%20%20%20%20%20%20%20popup_a5fb84c3375d459095b53dcdf6e9fa85.setContent%28html_fb1b279e29724e3abbc4f87c72d6d4e5%29%3B%0A%20%20%20%20%20%20%20%20%20%20%20%20%0A%0A%20%20%20%20%20%20%20%20%20%20%20%20circle_marker_50667ff7c5b8432584e21d2f4e56cb0f.bindPopup%28popup_a5fb84c3375d459095b53dcdf6e9fa85%29%3B%0A%0A%20%20%20%20%20%20%20%20%20%20%20%20%0A%20%20%20%20%20%20%20%20%0A%20%20%20%20%0A%20%20%20%20%20%20%20%20%20%20%20%20var%20circle_marker_6c0f516d4ced4b1793839bc79c20f8ee%20%3D%20L.circleMarker%28%0A%20%20%20%20%20%20%20%20%20%20%20%20%20%20%20%20%5B33.451025%2C-112.133544%5D%2C%0A%20%20%20%20%20%20%20%20%20%20%20%20%20%20%20%20%7B%0A%20%20%22bubblingMouseEvents%22%3A%20true%2C%0A%20%20%22color%22%3A%20%22red%22%2C%0A%20%20%22dashArray%22%3A%20null%2C%0A%20%20%22dashOffset%22%3A%20null%2C%0A%20%20%22fill%22%3A%20true%2C%0A%20%20%22fillColor%22%3A%20%22%233186cc%22%2C%0A%20%20%22fillOpacity%22%3A%200.7%2C%0A%20%20%22fillRule%22%3A%20%22evenodd%22%2C%0A%20%20%22lineCap%22%3A%20%22round%22%2C%0A%20%20%22lineJoin%22%3A%20%22round%22%2C%0A%20%20%22opacity%22%3A%201.0%2C%0A%20%20%22radius%22%3A%205%2C%0A%20%20%22stroke%22%3A%20true%2C%0A%20%20%22weight%22%3A%203%0A%7D%0A%20%20%20%20%20%20%20%20%20%20%20%20%20%20%20%20%29.addTo%28map_89bfafe5c69444c0ba1976f10d17175b%29%3B%0A%20%20%20%20%20%20%20%20%20%20%20%20%0A%20%20%20%20%0A%20%20%20%20%20%20%20%20%20%20%20%20var%20popup_b2c245fa4f3146d9887dcde5e874236f%20%3D%20L.popup%28%7BmaxWidth%3A%20%27300%27%7D%29%3B%0A%0A%20%20%20%20%20%20%20%20%20%20%20%20%0A%20%20%20%20%20%20%20%20%20%20%20%20%20%20%20%20var%20html_bd228366576147fbadb79ea1f12d2cf1%20%3D%20%24%28%27%3Cdiv%20id%3D%22html_bd228366576147fbadb79ea1f12d2cf1%22%20style%3D%22width%3A%20100.0%25%3B%20height%3A%20100.0%25%3B%22%3EChina%20Star%3C/div%3E%27%29%5B0%5D%3B%0A%20%20%20%20%20%20%20%20%20%20%20%20%20%20%20%20popup_b2c245fa4f3146d9887dcde5e874236f.setContent%28html_bd228366576147fbadb79ea1f12d2cf1%29%3B%0A%20%20%20%20%20%20%20%20%20%20%20%20%0A%0A%20%20%20%20%20%20%20%20%20%20%20%20circle_marker_6c0f516d4ced4b1793839bc79c20f8ee.bindPopup%28popup_b2c245fa4f3146d9887dcde5e874236f%29%3B%0A%0A%20%20%20%20%20%20%20%20%20%20%20%20%0A%20%20%20%20%20%20%20%20%0A%20%20%20%20%0A%20%20%20%20%20%20%20%20%20%20%20%20var%20circle_marker_fbbec86bcef84b999bd0692a40d1dd59%20%3D%20L.circleMarker%28%0A%20%20%20%20%20%20%20%20%20%20%20%20%20%20%20%20%5B33.481879%2C-112.02988400000001%5D%2C%0A%20%20%20%20%20%20%20%20%20%20%20%20%20%20%20%20%7B%0A%20%20%22bubblingMouseEvents%22%3A%20true%2C%0A%20%20%22color%22%3A%20%22red%22%2C%0A%20%20%22dashArray%22%3A%20null%2C%0A%20%20%22dashOffset%22%3A%20null%2C%0A%20%20%22fill%22%3A%20true%2C%0A%20%20%22fillColor%22%3A%20%22%233186cc%22%2C%0A%20%20%22fillOpacity%22%3A%200.7%2C%0A%20%20%22fillRule%22%3A%20%22evenodd%22%2C%0A%20%20%22lineCap%22%3A%20%22round%22%2C%0A%20%20%22lineJoin%22%3A%20%22round%22%2C%0A%20%20%22opacity%22%3A%201.0%2C%0A%20%20%22radius%22%3A%205%2C%0A%20%20%22stroke%22%3A%20true%2C%0A%20%20%22weight%22%3A%203%0A%7D%0A%20%20%20%20%20%20%20%20%20%20%20%20%20%20%20%20%29.addTo%28map_89bfafe5c69444c0ba1976f10d17175b%29%3B%0A%20%20%20%20%20%20%20%20%20%20%20%20%0A%20%20%20%20%0A%20%20%20%20%20%20%20%20%20%20%20%20var%20popup_93ddd6dd51324d78925bd52f8abb44c6%20%3D%20L.popup%28%7BmaxWidth%3A%20%27300%27%7D%29%3B%0A%0A%20%20%20%20%20%20%20%20%20%20%20%20%0A%20%20%20%20%20%20%20%20%20%20%20%20%20%20%20%20var%20html_01402266c8e84e36b3f074c0d70350bc%20%3D%20%24%28%27%3Cdiv%20id%3D%22html_01402266c8e84e36b3f074c0d70350bc%22%20style%3D%22width%3A%20100.0%25%3B%20height%3A%20100.0%25%3B%22%3ENew%20China%20Super%20Buffet%3C/div%3E%27%29%5B0%5D%3B%0A%20%20%20%20%20%20%20%20%20%20%20%20%20%20%20%20popup_93ddd6dd51324d78925bd52f8abb44c6.setContent%28html_01402266c8e84e36b3f074c0d70350bc%29%3B%0A%20%20%20%20%20%20%20%20%20%20%20%20%0A%0A%20%20%20%20%20%20%20%20%20%20%20%20circle_marker_fbbec86bcef84b999bd0692a40d1dd59.bindPopup%28popup_93ddd6dd51324d78925bd52f8abb44c6%29%3B%0A%0A%20%20%20%20%20%20%20%20%20%20%20%20%0A%20%20%20%20%20%20%20%20%0A%20%20%20%20%0A%20%20%20%20%20%20%20%20%20%20%20%20var%20circle_marker_6b0a5c51ccd048728468aa97d621ded2%20%3D%20L.circleMarker%28%0A%20%20%20%20%20%20%20%20%20%20%20%20%20%20%20%20%5B33.398832%2C-112.064353%5D%2C%0A%20%20%20%20%20%20%20%20%20%20%20%20%20%20%20%20%7B%0A%20%20%22bubblingMouseEvents%22%3A%20true%2C%0A%20%20%22color%22%3A%20%22red%22%2C%0A%20%20%22dashArray%22%3A%20null%2C%0A%20%20%22dashOffset%22%3A%20null%2C%0A%20%20%22fill%22%3A%20true%2C%0A%20%20%22fillColor%22%3A%20%22%233186cc%22%2C%0A%20%20%22fillOpacity%22%3A%200.7%2C%0A%20%20%22fillRule%22%3A%20%22evenodd%22%2C%0A%20%20%22lineCap%22%3A%20%22round%22%2C%0A%20%20%22lineJoin%22%3A%20%22round%22%2C%0A%20%20%22opacity%22%3A%201.0%2C%0A%20%20%22radius%22%3A%205%2C%0A%20%20%22stroke%22%3A%20true%2C%0A%20%20%22weight%22%3A%203%0A%7D%0A%20%20%20%20%20%20%20%20%20%20%20%20%20%20%20%20%29.addTo%28map_89bfafe5c69444c0ba1976f10d17175b%29%3B%0A%20%20%20%20%20%20%20%20%20%20%20%20%0A%20%20%20%20%0A%20%20%20%20%20%20%20%20%20%20%20%20var%20popup_7544c4b3a86c48d78383eab75f08a562%20%3D%20L.popup%28%7BmaxWidth%3A%20%27300%27%7D%29%3B%0A%0A%20%20%20%20%20%20%20%20%20%20%20%20%0A%20%20%20%20%20%20%20%20%20%20%20%20%20%20%20%20var%20html_dca7d1d80b5d484a8db75792efb678c4%20%3D%20%24%28%27%3Cdiv%20id%3D%22html_dca7d1d80b5d484a8db75792efb678c4%22%20style%3D%22width%3A%20100.0%25%3B%20height%3A%20100.0%25%3B%22%3EWongs%20Chinese%20Food%3C/div%3E%27%29%5B0%5D%3B%0A%20%20%20%20%20%20%20%20%20%20%20%20%20%20%20%20popup_7544c4b3a86c48d78383eab75f08a562.setContent%28html_dca7d1d80b5d484a8db75792efb678c4%29%3B%0A%20%20%20%20%20%20%20%20%20%20%20%20%0A%0A%20%20%20%20%20%20%20%20%20%20%20%20circle_marker_6b0a5c51ccd048728468aa97d621ded2.bindPopup%28popup_7544c4b3a86c48d78383eab75f08a562%29%3B%0A%0A%20%20%20%20%20%20%20%20%20%20%20%20%0A%20%20%20%20%20%20%20%20%0A%20%20%20%20%0A%20%20%20%20%20%20%20%20%20%20%20%20var%20circle_marker_c584435ae76c4d608828d56d2042192e%20%3D%20L.circleMarker%28%0A%20%20%20%20%20%20%20%20%20%20%20%20%20%20%20%20%5B33.50276513136434%2C-112.08219860422271%5D%2C%0A%20%20%20%20%20%20%20%20%20%20%20%20%20%20%20%20%7B%0A%20%20%22bubblingMouseEvents%22%3A%20true%2C%0A%20%20%22color%22%3A%20%22red%22%2C%0A%20%20%22dashArray%22%3A%20null%2C%0A%20%20%22dashOffset%22%3A%20null%2C%0A%20%20%22fill%22%3A%20true%2C%0A%20%20%22fillColor%22%3A%20%22%233186cc%22%2C%0A%20%20%22fillOpacity%22%3A%200.7%2C%0A%20%20%22fillRule%22%3A%20%22evenodd%22%2C%0A%20%20%22lineCap%22%3A%20%22round%22%2C%0A%20%20%22lineJoin%22%3A%20%22round%22%2C%0A%20%20%22opacity%22%3A%201.0%2C%0A%20%20%22radius%22%3A%205%2C%0A%20%20%22stroke%22%3A%20true%2C%0A%20%20%22weight%22%3A%203%0A%7D%0A%20%20%20%20%20%20%20%20%20%20%20%20%20%20%20%20%29.addTo%28map_89bfafe5c69444c0ba1976f10d17175b%29%3B%0A%20%20%20%20%20%20%20%20%20%20%20%20%0A%20%20%20%20%0A%20%20%20%20%20%20%20%20%20%20%20%20var%20popup_0fee799c263c4b95af5e8dac2577e2a3%20%3D%20L.popup%28%7BmaxWidth%3A%20%27300%27%7D%29%3B%0A%0A%20%20%20%20%20%20%20%20%20%20%20%20%0A%20%20%20%20%20%20%20%20%20%20%20%20%20%20%20%20var%20html_fed98ea8bf644cf9a5137a523d8981ee%20%3D%20%24%28%27%3Cdiv%20id%3D%22html_fed98ea8bf644cf9a5137a523d8981ee%22%20style%3D%22width%3A%20100.0%25%3B%20height%3A%20100.0%25%3B%22%3ESouth%20China%20BBQ%20HK%20Style%3C/div%3E%27%29%5B0%5D%3B%0A%20%20%20%20%20%20%20%20%20%20%20%20%20%20%20%20popup_0fee799c263c4b95af5e8dac2577e2a3.setContent%28html_fed98ea8bf644cf9a5137a523d8981ee%29%3B%0A%20%20%20%20%20%20%20%20%20%20%20%20%0A%0A%20%20%20%20%20%20%20%20%20%20%20%20circle_marker_c584435ae76c4d608828d56d2042192e.bindPopup%28popup_0fee799c263c4b95af5e8dac2577e2a3%29%3B%0A%0A%20%20%20%20%20%20%20%20%20%20%20%20%0A%20%20%20%20%20%20%20%20%0A%20%20%20%20%0A%20%20%20%20%20%20%20%20%20%20%20%20var%20circle_marker_ce93287781154ff49fc804e0623a3086%20%3D%20L.circleMarker%28%0A%20%20%20%20%20%20%20%20%20%20%20%20%20%20%20%20%5B33.39250946044922%2C-112.0709457397461%5D%2C%0A%20%20%20%20%20%20%20%20%20%20%20%20%20%20%20%20%7B%0A%20%20%22bubblingMouseEvents%22%3A%20true%2C%0A%20%20%22color%22%3A%20%22red%22%2C%0A%20%20%22dashArray%22%3A%20null%2C%0A%20%20%22dashOffset%22%3A%20null%2C%0A%20%20%22fill%22%3A%20true%2C%0A%20%20%22fillColor%22%3A%20%22%233186cc%22%2C%0A%20%20%22fillOpacity%22%3A%200.7%2C%0A%20%20%22fillRule%22%3A%20%22evenodd%22%2C%0A%20%20%22lineCap%22%3A%20%22round%22%2C%0A%20%20%22lineJoin%22%3A%20%22round%22%2C%0A%20%20%22opacity%22%3A%201.0%2C%0A%20%20%22radius%22%3A%205%2C%0A%20%20%22stroke%22%3A%20true%2C%0A%20%20%22weight%22%3A%203%0A%7D%0A%20%20%20%20%20%20%20%20%20%20%20%20%20%20%20%20%29.addTo%28map_89bfafe5c69444c0ba1976f10d17175b%29%3B%0A%20%20%20%20%20%20%20%20%20%20%20%20%0A%20%20%20%20%0A%20%20%20%20%20%20%20%20%20%20%20%20var%20popup_57fa0b7eb21d4723846a1fe04c35f977%20%3D%20L.popup%28%7BmaxWidth%3A%20%27300%27%7D%29%3B%0A%0A%20%20%20%20%20%20%20%20%20%20%20%20%0A%20%20%20%20%20%20%20%20%20%20%20%20%20%20%20%20var%20html_bcfd9c90893049c59d6a2ba9c1ed592e%20%3D%20%24%28%27%3Cdiv%20id%3D%22html_bcfd9c90893049c59d6a2ba9c1ed592e%22%20style%3D%22width%3A%20100.0%25%3B%20height%3A%20100.0%25%3B%22%3EKing%20Wah%3C/div%3E%27%29%5B0%5D%3B%0A%20%20%20%20%20%20%20%20%20%20%20%20%20%20%20%20popup_57fa0b7eb21d4723846a1fe04c35f977.setContent%28html_bcfd9c90893049c59d6a2ba9c1ed592e%29%3B%0A%20%20%20%20%20%20%20%20%20%20%20%20%0A%0A%20%20%20%20%20%20%20%20%20%20%20%20circle_marker_ce93287781154ff49fc804e0623a3086.bindPopup%28popup_57fa0b7eb21d4723846a1fe04c35f977%29%3B%0A%0A%20%20%20%20%20%20%20%20%20%20%20%20%0A%20%20%20%20%20%20%20%20%0A%20%20%20%20%0A%20%20%20%20%20%20%20%20%20%20%20%20var%20circle_marker_e58a57674b3245419bfffaaf00e4476c%20%3D%20L.circleMarker%28%0A%20%20%20%20%20%20%20%20%20%20%20%20%20%20%20%20%5B33.391441345214844%2C-112.04911804199219%5D%2C%0A%20%20%20%20%20%20%20%20%20%20%20%20%20%20%20%20%7B%0A%20%20%22bubblingMouseEvents%22%3A%20true%2C%0A%20%20%22color%22%3A%20%22red%22%2C%0A%20%20%22dashArray%22%3A%20null%2C%0A%20%20%22dashOffset%22%3A%20null%2C%0A%20%20%22fill%22%3A%20true%2C%0A%20%20%22fillColor%22%3A%20%22%233186cc%22%2C%0A%20%20%22fillOpacity%22%3A%200.7%2C%0A%20%20%22fillRule%22%3A%20%22evenodd%22%2C%0A%20%20%22lineCap%22%3A%20%22round%22%2C%0A%20%20%22lineJoin%22%3A%20%22round%22%2C%0A%20%20%22opacity%22%3A%201.0%2C%0A%20%20%22radius%22%3A%205%2C%0A%20%20%22stroke%22%3A%20true%2C%0A%20%20%22weight%22%3A%203%0A%7D%0A%20%20%20%20%20%20%20%20%20%20%20%20%20%20%20%20%29.addTo%28map_89bfafe5c69444c0ba1976f10d17175b%29%3B%0A%20%20%20%20%20%20%20%20%20%20%20%20%0A%20%20%20%20%0A%20%20%20%20%20%20%20%20%20%20%20%20var%20popup_05281c2f5fef46bb9b4592d61bccb69e%20%3D%20L.popup%28%7BmaxWidth%3A%20%27300%27%7D%29%3B%0A%0A%20%20%20%20%20%20%20%20%20%20%20%20%0A%20%20%20%20%20%20%20%20%20%20%20%20%20%20%20%20var%20html_7821e8ca786a41c59450978476471661%20%3D%20%24%28%27%3Cdiv%20id%3D%22html_7821e8ca786a41c59450978476471661%22%20style%3D%22width%3A%20100.0%25%3B%20height%3A%20100.0%25%3B%22%3ENew%20China%20Restaurant%20%2816th%20St/Southern%29%3C/div%3E%27%29%5B0%5D%3B%0A%20%20%20%20%20%20%20%20%20%20%20%20%20%20%20%20popup_05281c2f5fef46bb9b4592d61bccb69e.setContent%28html_7821e8ca786a41c59450978476471661%29%3B%0A%20%20%20%20%20%20%20%20%20%20%20%20%0A%0A%20%20%20%20%20%20%20%20%20%20%20%20circle_marker_e58a57674b3245419bfffaaf00e4476c.bindPopup%28popup_05281c2f5fef46bb9b4592d61bccb69e%29%3B%0A%0A%20%20%20%20%20%20%20%20%20%20%20%20%0A%20%20%20%20%20%20%20%20%0A%20%20%20%20%0A%20%20%20%20%20%20%20%20%20%20%20%20var%20circle_marker_e0d5b89aa9d74347a0731c48b49eee3c%20%3D%20L.circleMarker%28%0A%20%20%20%20%20%20%20%20%20%20%20%20%20%20%20%20%5B33.49112718514639%2C-112.07669974657294%5D%2C%0A%20%20%20%20%20%20%20%20%20%20%20%20%20%20%20%20%7B%0A%20%20%22bubblingMouseEvents%22%3A%20true%2C%0A%20%20%22color%22%3A%20%22green%22%2C%0A%20%20%22dashArray%22%3A%20null%2C%0A%20%20%22dashOffset%22%3A%20null%2C%0A%20%20%22fill%22%3A%20true%2C%0A%20%20%22fillColor%22%3A%20%22%233186cc%22%2C%0A%20%20%22fillOpacity%22%3A%200.7%2C%0A%20%20%22fillRule%22%3A%20%22evenodd%22%2C%0A%20%20%22lineCap%22%3A%20%22round%22%2C%0A%20%20%22lineJoin%22%3A%20%22round%22%2C%0A%20%20%22opacity%22%3A%201.0%2C%0A%20%20%22radius%22%3A%2015%2C%0A%20%20%22stroke%22%3A%20true%2C%0A%20%20%22weight%22%3A%203%0A%7D%0A%20%20%20%20%20%20%20%20%20%20%20%20%20%20%20%20%29.addTo%28map_89bfafe5c69444c0ba1976f10d17175b%29%3B%0A%20%20%20%20%20%20%20%20%20%20%20%20%0A%20%20%20%20%0A%20%20%20%20%20%20%20%20%20%20%20%20var%20popup_39d4aee9b3b449ccb98b3b56cffef5e2%20%3D%20L.popup%28%7BmaxWidth%3A%20%27300%27%7D%29%3B%0A%0A%20%20%20%20%20%20%20%20%20%20%20%20%0A%20%20%20%20%20%20%20%20%20%20%20%20%20%20%20%20var%20html_e560b3ac04e447dda092e5e278ab8b01%20%3D%20%24%28%27%3Cdiv%20id%3D%22html_e560b3ac04e447dda092e5e278ab8b01%22%20style%3D%22width%3A%20100.0%25%3B%20height%3A%20100.0%25%3B%22%3EOur%20New%20Restaruant%3C/div%3E%27%29%5B0%5D%3B%0A%20%20%20%20%20%20%20%20%20%20%20%20%20%20%20%20popup_39d4aee9b3b449ccb98b3b56cffef5e2.setContent%28html_e560b3ac04e447dda092e5e278ab8b01%29%3B%0A%20%20%20%20%20%20%20%20%20%20%20%20%0A%0A%20%20%20%20%20%20%20%20%20%20%20%20circle_marker_e0d5b89aa9d74347a0731c48b49eee3c.bindPopup%28popup_39d4aee9b3b449ccb98b3b56cffef5e2%29%3B%0A%0A%20%20%20%20%20%20%20%20%20%20%20%20%0A%20%20%20%20%20%20%20%20%0A%3C/script%3E onload=\"this.contentDocument.open();this.contentDocument.write(    decodeURIComponent(this.getAttribute('data-html')));this.contentDocument.close();\" allowfullscreen webkitallowfullscreen mozallowfullscreen></iframe></div></div>"
      ],
      "text/plain": [
       "<folium.folium.Map at 0x26531a13760>"
      ]
     },
     "execution_count": 141,
     "metadata": {},
     "output_type": "execute_result"
    }
   ],
   "source": [
    "lat = 33.49112718514639\n",
    "lng = -112.07669974657294\n",
    "map_Phoenix = folium.Map(location=[lat, lng], zoom_start=13)\n",
    "add_markers(df)\n",
    "folium.CircleMarker(\n",
    "    [lat, lng],\n",
    "    radius=15,\n",
    "    popup=\"Our New Restaruant\",\n",
    "    color='green',\n",
    "    fill=True,\n",
    "    fill_color='#3186cc',\n",
    "    fill_opacity=0.7,\n",
    "    parse_html=False).add_to(map_Phoenix)\n",
    "\n",
    "map_Phoenix"
   ]
  },
  {
   "cell_type": "markdown",
   "metadata": {},
   "source": [
    "#### Phoenix_map_2\n",
    "## Conclusion"
   ]
  },
  {
   "cell_type": "markdown",
   "metadata": {},
   "source": [
    "Use Google Map to check the location: https://www.google.com/maps/place/33%C2%B029'28.1%22N+112%C2%B004'36.1%22W/@33.4907141,-112.0780428,17.25z/. I found it is surrounded by three hotels. So the location could have a large number of potential users. And it is safe as well since it is also next to a bank. Therefore, I think location [33.49112718514639, -112.07669974657294] is a great location for openning a new Chinese restaurant."
   ]
  },
  {
   "cell_type": "markdown",
   "metadata": {},
   "source": [
    "#### Phoenix_map_1 and Phoenix_map_2 can be found with the attachment and master branch of the repository."
   ]
  },
  {
   "cell_type": "code",
   "execution_count": null,
   "metadata": {},
   "outputs": [],
   "source": []
  }
 ],
 "metadata": {
  "kernelspec": {
   "display_name": "Python 3",
   "language": "python",
   "name": "python3"
  },
  "language_info": {
   "codemirror_mode": {
    "name": "ipython",
    "version": 3
   },
   "file_extension": ".py",
   "mimetype": "text/x-python",
   "name": "python",
   "nbconvert_exporter": "python",
   "pygments_lexer": "ipython3",
   "version": "3.8.3"
  }
 },
 "nbformat": 4,
 "nbformat_minor": 4
}
